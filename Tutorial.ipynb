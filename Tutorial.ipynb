{
 "cells": [
  {
   "cell_type": "code",
   "execution_count": 1,
   "metadata": {},
   "outputs": [],
   "source": [
    "import warnings\n",
    "\n",
    "warnings.filterwarnings(action='ignore')"
   ]
  },
  {
   "cell_type": "markdown",
   "metadata": {},
   "source": [
    "# SIGMOD 2022 SystemR Tutorial Code\n",
    "\n",
    "## System R: Targeted Disinformation for Black-box Models performing End-to-end Training on Structured Data"
   ]
  },
  {
   "cell_type": "code",
   "execution_count": 2,
   "metadata": {
    "scrolled": true
   },
   "outputs": [],
   "source": [
    "from preprocessing import Dataset\n",
    "import numpy as np\n",
    "\n",
    "np.random.seed(726)\n",
    "\n",
    "test_size = 0.25\n",
    "n_target = 10\n",
    "\n",
    "Adult = Dataset('adult')\n",
    "target_indices = np.random.choice(Adult.data.index, n_target)\n",
    "(x_tr,y_tr), (x_te,y_te), (x_ta,y_ta), tr_scaler = Adult.split_dataset(test_size, target_indices)"
   ]
  },
  {
   "cell_type": "code",
   "execution_count": 3,
   "metadata": {
    "scrolled": true
   },
   "outputs": [
    {
     "name": "stdout",
     "output_type": "stream",
     "text": [
      "train models..\n"
     ]
    },
    {
     "name": "stderr",
     "output_type": "stream",
     "text": [
      "100%|██████████| 6/6 [00:52<00:00,  8.68s/it]\n",
      "6it [00:01,  3.05it/s]\n"
     ]
    },
    {
     "data": {
      "text/html": [
       "<div>\n",
       "<style scoped>\n",
       "    .dataframe tbody tr th:only-of-type {\n",
       "        vertical-align: middle;\n",
       "    }\n",
       "\n",
       "    .dataframe tbody tr th {\n",
       "        vertical-align: top;\n",
       "    }\n",
       "\n",
       "    .dataframe thead th {\n",
       "        text-align: right;\n",
       "    }\n",
       "</style>\n",
       "<table border=\"1\" class=\"dataframe\">\n",
       "  <thead>\n",
       "    <tr style=\"text-align: right;\">\n",
       "      <th></th>\n",
       "      <th>train acc</th>\n",
       "      <th>test acc</th>\n",
       "      <th>target acc</th>\n",
       "    </tr>\n",
       "  </thead>\n",
       "  <tbody>\n",
       "    <tr>\n",
       "      <th>s-nn_tanh_10_2</th>\n",
       "      <td>0.8627</td>\n",
       "      <td>0.8471</td>\n",
       "      <td>0.9</td>\n",
       "    </tr>\n",
       "    <tr>\n",
       "      <th>s-nn_relu_5_2</th>\n",
       "      <td>0.8561</td>\n",
       "      <td>0.8507</td>\n",
       "      <td>0.9</td>\n",
       "    </tr>\n",
       "    <tr>\n",
       "      <th>s-rf_entropy</th>\n",
       "      <td>0.8520</td>\n",
       "      <td>0.8537</td>\n",
       "      <td>0.8</td>\n",
       "    </tr>\n",
       "    <tr>\n",
       "      <th>s-gb</th>\n",
       "      <td>0.8569</td>\n",
       "      <td>0.8551</td>\n",
       "      <td>0.9</td>\n",
       "    </tr>\n",
       "    <tr>\n",
       "      <th>s-ada</th>\n",
       "      <td>0.8641</td>\n",
       "      <td>0.8618</td>\n",
       "      <td>0.8</td>\n",
       "    </tr>\n",
       "    <tr>\n",
       "      <th>s-log_reg</th>\n",
       "      <td>0.8489</td>\n",
       "      <td>0.8507</td>\n",
       "      <td>0.8</td>\n",
       "    </tr>\n",
       "  </tbody>\n",
       "</table>\n",
       "</div>"
      ],
      "text/plain": [
       "                train acc  test acc  target acc\n",
       "s-nn_tanh_10_2     0.8627    0.8471         0.9\n",
       "s-nn_relu_5_2      0.8561    0.8507         0.9\n",
       "s-rf_entropy       0.8520    0.8537         0.8\n",
       "s-gb               0.8569    0.8551         0.9\n",
       "s-ada              0.8641    0.8618         0.8\n",
       "s-log_reg          0.8489    0.8507         0.8"
      ]
     },
     "execution_count": 3,
     "metadata": {},
     "output_type": "execute_result"
    }
   ],
   "source": [
    "from model import SurrogateModels\n",
    "\n",
    "# model_names = ['nn_tanh_10_2','nn_relu_5_2', 'nn_relu_25_10', 'nn_identity',\n",
    "#                'rf_gini', 'rf_entropy', 'gb', 'ada', 'log_reg']\n",
    "    \n",
    "model_names = ['nn_tanh_10_2','nn_relu_5_2', 'rf_entropy', 'gb', 'ada', 'log_reg']\n",
    "\n",
    "s_models = SurrogateModels(model_names)\n",
    "s_models.train_all(x_tr, y_tr)\n",
    "s_models.show_performance([(x_tr,y_tr), (x_te,y_te), (x_ta,y_ta)],\n",
    "                         cnames=['train', 'test','target'])\n",
    "#s_models.cross_validation(x_tr, y_tr, k=3)"
   ]
  },
  {
   "cell_type": "code",
   "execution_count": 4,
   "metadata": {},
   "outputs": [
    {
     "name": "stderr",
     "output_type": "stream",
     "text": [
      "100%|██████████| 6/6 [00:01<00:00,  3.15it/s]\n",
      "100%|██████████| 6/6 [00:00<00:00, 11.61it/s]\n"
     ]
    }
   ],
   "source": [
    "from prob_decision_boundary import PDB\n",
    "\n",
    "prob_dec = PDB(s_models.models)\n",
    "x_all = np.concatenate([x_tr, x_te], axis=0)\n",
    "prob_dec.fit_all(x_all)\n",
    "sn_te_labels = prob_dec.predict(x_te)"
   ]
  },
  {
   "cell_type": "code",
   "execution_count": 5,
   "metadata": {},
   "outputs": [],
   "source": [
    "sn_te_labels[sn_te_labels == -1] = 0\n",
    "te_acc = sum(sn_te_labels==y_te)/len(y_te)"
   ]
  },
  {
   "cell_type": "markdown",
   "metadata": {},
   "source": [
    "# Candidate Generation\n",
    "## GAN-based"
   ]
  },
  {
   "cell_type": "code",
   "execution_count": null,
   "metadata": {
    "scrolled": true
   },
   "outputs": [],
   "source": [
    "from gen_disinfos import GANcandidates\n",
    "\n",
    "adult = Adult.data\n",
    "column_cat = Adult.column_cat\n",
    "column_int = Adult.column_int\n",
    "columns_1hot = Adult.data_1hot.columns\n",
    "\n",
    "gan_gen = GANcandidates()\n",
    "gan_gen.fit(adult, column_cat, column_int)"
   ]
  },
  {
   "cell_type": "code",
   "execution_count": null,
   "metadata": {},
   "outputs": [],
   "source": [
    "_ = gan_gen.generate()\n",
    "gan_cand_list = gan_gen.nearest_points(tr_scaler, target_indices, columns_1hot)"
   ]
  },
  {
   "cell_type": "code",
   "execution_count": null,
   "metadata": {
    "scrolled": true
   },
   "outputs": [],
   "source": [
    "from IPython.display import display\n",
    "import pandas as pd\n",
    "\n",
    "display(pd.concat([g.iloc[[0]]for g in gan_cand_list],ignore_index=True))"
   ]
  },
  {
   "cell_type": "markdown",
   "metadata": {},
   "source": [
    "## WM-based"
   ]
  },
  {
   "cell_type": "code",
   "execution_count": null,
   "metadata": {
    "scrolled": true
   },
   "outputs": [],
   "source": [
    "from gen_disinfos import WMcandidates, optimize_disinfo\n",
    "from tqdm import tqdm\n",
    "  \n",
    "adult_1hot = Adult.data_1hot\n",
    "adult_label = Adult.label\n",
    "\n",
    "wm_gen = WMcandidates(adult_1hot, adult_label, target_indices)\n",
    "wm_cand_list = wm_gen.watermarking(tr_scaler, adult.columns, column_cat, column_int)"
   ]
  },
  {
   "cell_type": "code",
   "execution_count": null,
   "metadata": {
    "scrolled": true
   },
   "outputs": [],
   "source": [
    "display(pd.concat([w.iloc[[0]]for w in wm_cand_list],ignore_index=True))"
   ]
  },
  {
   "cell_type": "code",
   "execution_count": null,
   "metadata": {},
   "outputs": [],
   "source": [
    "x_dis, y_dis = [], []\n",
    "for ti in range(n_target):\n",
    "    xt, yt = x_ta[ti], y_ta[ti]\n",
    "    wm_cand = wm_cand_list[ti]\n",
    "    gan_cand = gan_cand_list[ti]\n",
    "    candidates = pd.concat((wm_cand, gan_cand))\n",
    "    \n",
    "    x_tmp, y_tmp = agg_disinfo(prob_dec, candidates, tr_scaler, x_tr, y_tr, xt, yt, \n",
    "                               columns_1hot, n_disinfo=100)\n",
    "    x_dis.extend(x_tmp)\n",
    "    y_dis.extend(y_tmp)"
   ]
  },
  {
   "cell_type": "markdown",
   "metadata": {},
   "source": [
    "# Insert Disinformation"
   ]
  },
  {
   "cell_type": "code",
   "execution_count": null,
   "metadata": {
    "scrolled": true
   },
   "outputs": [],
   "source": [
    "from model import VictimModels\n",
    "\n",
    "v_models = VictimModels()\n",
    "v_models.train_all(x_tr, y_tr)\n",
    "result_clean = v_models.show_performance([(x_tr,y_tr), (x_te,y_te), (x_ta,y_ta)],\n",
    "                         cnames=['train', 'test','target'])\n",
    "result_clean"
   ]
  },
  {
   "cell_type": "code",
   "execution_count": null,
   "metadata": {},
   "outputs": [],
   "source": [
    "x_tr_dis = np.concatenate((x_tr, x_dis), axis=0)\n",
    "y_tr_dis = np.concatenate((y_tr, y_dis), axis=0).astype(int)"
   ]
  },
  {
   "cell_type": "code",
   "execution_count": null,
   "metadata": {},
   "outputs": [],
   "source": [
    "v_models_dis = VictimModels()\n",
    "v_models_dis.train_all(x_tr_dis, y_tr_dis)\n",
    "result_dis = v_models_dis.show_performance([(x_tr,y_tr), (x_te,y_te), (x_ta,y_ta)],\n",
    "                         cnames=['train', 'test','target'])\n",
    "result_dis"
   ]
  }
 ],
 "metadata": {
  "kernelspec": {
   "display_name": "snorkel",
   "language": "python",
   "name": "snorkel"
  },
  "language_info": {
   "codemirror_mode": {
    "name": "ipython",
    "version": 3
   },
   "file_extension": ".py",
   "mimetype": "text/x-python",
   "name": "python",
   "nbconvert_exporter": "python",
   "pygments_lexer": "ipython3",
   "version": "3.6.13"
  }
 },
 "nbformat": 4,
 "nbformat_minor": 4
}
