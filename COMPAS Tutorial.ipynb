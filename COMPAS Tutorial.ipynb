{
 "cells": [
  {
   "cell_type": "code",
   "execution_count": 1,
   "metadata": {},
   "outputs": [],
   "source": [
    "import warnings\n",
    "\n",
    "warnings.filterwarnings(action='ignore')"
   ]
  },
  {
   "cell_type": "markdown",
   "metadata": {},
   "source": [
    "# COMPAS Tutorial Code\n",
    "\n",
    "The process is exactly same with \"Tutorial.ipynb\", but only difference is the structure of models. "
   ]
  },
  {
   "cell_type": "code",
   "execution_count": 2,
   "metadata": {},
   "outputs": [],
   "source": [
    "from preprocessing import Dataset\n",
    "import numpy as np\n",
    "\n",
    "np.random.seed(124)\n",
    "\n",
    "test_size = 0.25\n",
    "n_target = 10\n",
    "\n",
    "Compas = Dataset('compas')\n",
    "target_indices = np.random.choice(Compas.data.index, n_target)\n",
    "(x_tr,y_tr), (x_te,y_te), (x_ta,y_ta), tr_scaler = Compas.split_dataset(test_size, target_indices)"
   ]
  },
  {
   "cell_type": "code",
   "execution_count": 3,
   "metadata": {},
   "outputs": [
    {
     "name": "stdout",
     "output_type": "stream",
     "text": [
      "train models..\n"
     ]
    },
    {
     "name": "stderr",
     "output_type": "stream",
     "text": [
      "100%|██████████| 9/9 [00:11<00:00,  1.25s/it]\n",
      "9it [00:00, 18.00it/s]\n"
     ]
    },
    {
     "data": {
      "text/html": [
       "<div>\n",
       "<style scoped>\n",
       "    .dataframe tbody tr th:only-of-type {\n",
       "        vertical-align: middle;\n",
       "    }\n",
       "\n",
       "    .dataframe tbody tr th {\n",
       "        vertical-align: top;\n",
       "    }\n",
       "\n",
       "    .dataframe thead th {\n",
       "        text-align: right;\n",
       "    }\n",
       "</style>\n",
       "<table border=\"1\" class=\"dataframe\">\n",
       "  <thead>\n",
       "    <tr style=\"text-align: right;\">\n",
       "      <th></th>\n",
       "      <th>train acc</th>\n",
       "      <th>test acc</th>\n",
       "      <th>target acc</th>\n",
       "    </tr>\n",
       "  </thead>\n",
       "  <tbody>\n",
       "    <tr>\n",
       "      <th>s-nn_tanh_10_2</th>\n",
       "      <td>0.7749</td>\n",
       "      <td>0.7576</td>\n",
       "      <td>0.6</td>\n",
       "    </tr>\n",
       "    <tr>\n",
       "      <th>s-nn_relu_5_2</th>\n",
       "      <td>0.7624</td>\n",
       "      <td>0.7712</td>\n",
       "      <td>0.6</td>\n",
       "    </tr>\n",
       "    <tr>\n",
       "      <th>s-nn_relu_25_10</th>\n",
       "      <td>0.7768</td>\n",
       "      <td>0.7680</td>\n",
       "      <td>0.7</td>\n",
       "    </tr>\n",
       "    <tr>\n",
       "      <th>s-nn_identity</th>\n",
       "      <td>0.7552</td>\n",
       "      <td>0.7745</td>\n",
       "      <td>0.5</td>\n",
       "    </tr>\n",
       "    <tr>\n",
       "      <th>s-rf_gini</th>\n",
       "      <td>0.7552</td>\n",
       "      <td>0.7641</td>\n",
       "      <td>0.5</td>\n",
       "    </tr>\n",
       "    <tr>\n",
       "      <th>s-rf_entropy</th>\n",
       "      <td>0.7572</td>\n",
       "      <td>0.7693</td>\n",
       "      <td>0.5</td>\n",
       "    </tr>\n",
       "    <tr>\n",
       "      <th>s-gb</th>\n",
       "      <td>0.7589</td>\n",
       "      <td>0.7803</td>\n",
       "      <td>0.6</td>\n",
       "    </tr>\n",
       "    <tr>\n",
       "      <th>s-ada</th>\n",
       "      <td>0.7559</td>\n",
       "      <td>0.7803</td>\n",
       "      <td>0.6</td>\n",
       "    </tr>\n",
       "    <tr>\n",
       "      <th>s-log_reg</th>\n",
       "      <td>0.7565</td>\n",
       "      <td>0.7745</td>\n",
       "      <td>0.5</td>\n",
       "    </tr>\n",
       "  </tbody>\n",
       "</table>\n",
       "</div>"
      ],
      "text/plain": [
       "                 train acc  test acc  target acc\n",
       "s-nn_tanh_10_2      0.7749    0.7576         0.6\n",
       "s-nn_relu_5_2       0.7624    0.7712         0.6\n",
       "s-nn_relu_25_10     0.7768    0.7680         0.7\n",
       "s-nn_identity       0.7552    0.7745         0.5\n",
       "s-rf_gini           0.7552    0.7641         0.5\n",
       "s-rf_entropy        0.7572    0.7693         0.5\n",
       "s-gb                0.7589    0.7803         0.6\n",
       "s-ada               0.7559    0.7803         0.6\n",
       "s-log_reg           0.7565    0.7745         0.5"
      ]
     },
     "execution_count": 3,
     "metadata": {},
     "output_type": "execute_result"
    }
   ],
   "source": [
    "from model import SurrogateModels\n",
    "\n",
    "model_names = ['nn_tanh_10_2','nn_relu_5_2', 'nn_relu_25_10', 'nn_identity',\n",
    "               'rf_gini', 'rf_entropy', 'gb', 'ada', 'log_reg']\n",
    "\n",
    "s_models = SurrogateModels(model_names)\n",
    "s_models.train_all(x_tr, y_tr)\n",
    "s_models.show_performance([(x_tr,y_tr), (x_te,y_te), (x_ta,y_ta)],\n",
    "                         cnames=['train', 'test','target'])"
   ]
  },
  {
   "cell_type": "code",
   "execution_count": 4,
   "metadata": {},
   "outputs": [
    {
     "name": "stderr",
     "output_type": "stream",
     "text": [
      "100%|██████████| 9/9 [00:00<00:00, 21.44it/s]\n",
      "100%|██████████| 9/9 [00:00<00:00, 81.03it/s]\n"
     ]
    }
   ],
   "source": [
    "from prob_decision_boundary import PDB\n",
    "\n",
    "prob_dec = PDB(s_models.models)\n",
    "x_all = np.concatenate([x_tr, x_te], axis=0)\n",
    "prob_dec.fit_all(x_all)\n",
    "sn_te_labels = prob_dec.predict(x_te)"
   ]
  },
  {
   "cell_type": "code",
   "execution_count": 5,
   "metadata": {},
   "outputs": [
    {
     "name": "stdout",
     "output_type": "stream",
     "text": [
      "Test Acc: 0.7764095917044718\n"
     ]
    }
   ],
   "source": [
    "sn_te_labels[sn_te_labels == -1] = 0\n",
    "te_acc = sum(sn_te_labels==y_te)/len(y_te)\n",
    "print('Test Acc: %s' % te_acc)"
   ]
  },
  {
   "cell_type": "code",
   "execution_count": 6,
   "metadata": {},
   "outputs": [],
   "source": [
    "from gen_disinfos import GANcandidates\n",
    "\n",
    "compas = Compas.data\n",
    "column_cat = Compas.column_cat\n",
    "column_int = Compas.column_int\n",
    "columns_1hot = Compas.data_1hot.columns\n",
    "\n",
    "gan_gen = GANcandidates()\n",
    "gan_gen.fit(compas, column_cat, column_int)"
   ]
  },
  {
   "cell_type": "code",
   "execution_count": 7,
   "metadata": {
    "scrolled": true
   },
   "outputs": [],
   "source": [
    "_ = gan_gen.generate()\n",
    "gan_cand_list = gan_gen.nearest_points(tr_scaler, target_indices, columns_1hot)"
   ]
  },
  {
   "cell_type": "code",
   "execution_count": 8,
   "metadata": {
    "scrolled": false
   },
   "outputs": [
    {
     "data": {
      "text/html": [
       "<div>\n",
       "<style scoped>\n",
       "    .dataframe tbody tr th:only-of-type {\n",
       "        vertical-align: middle;\n",
       "    }\n",
       "\n",
       "    .dataframe tbody tr th {\n",
       "        vertical-align: top;\n",
       "    }\n",
       "\n",
       "    .dataframe thead th {\n",
       "        text-align: right;\n",
       "    }\n",
       "</style>\n",
       "<table border=\"1\" class=\"dataframe\">\n",
       "  <thead>\n",
       "    <tr style=\"text-align: right;\">\n",
       "      <th></th>\n",
       "      <th>c-charge-degree</th>\n",
       "      <th>age-cat</th>\n",
       "      <th>race</th>\n",
       "      <th>sex</th>\n",
       "      <th>age</th>\n",
       "      <th>juv-fel-count</th>\n",
       "      <th>juv-misd-count</th>\n",
       "      <th>juv-other-count</th>\n",
       "      <th>priors-count</th>\n",
       "      <th>two-year-recid</th>\n",
       "    </tr>\n",
       "  </thead>\n",
       "  <tbody>\n",
       "    <tr>\n",
       "      <th>0</th>\n",
       "      <td>M</td>\n",
       "      <td>Greater than 45</td>\n",
       "      <td>African-American</td>\n",
       "      <td>Female</td>\n",
       "      <td>55</td>\n",
       "      <td>0</td>\n",
       "      <td>0</td>\n",
       "      <td>0</td>\n",
       "      <td>1</td>\n",
       "      <td>0</td>\n",
       "    </tr>\n",
       "    <tr>\n",
       "      <th>1</th>\n",
       "      <td>F</td>\n",
       "      <td>25 - 45</td>\n",
       "      <td>Caucasian</td>\n",
       "      <td>Female</td>\n",
       "      <td>31</td>\n",
       "      <td>0</td>\n",
       "      <td>0</td>\n",
       "      <td>0</td>\n",
       "      <td>5</td>\n",
       "      <td>0</td>\n",
       "    </tr>\n",
       "    <tr>\n",
       "      <th>2</th>\n",
       "      <td>F</td>\n",
       "      <td>25 - 45</td>\n",
       "      <td>Hispanic</td>\n",
       "      <td>Male</td>\n",
       "      <td>26</td>\n",
       "      <td>0</td>\n",
       "      <td>0</td>\n",
       "      <td>0</td>\n",
       "      <td>0</td>\n",
       "      <td>0</td>\n",
       "    </tr>\n",
       "    <tr>\n",
       "      <th>3</th>\n",
       "      <td>M</td>\n",
       "      <td>25 - 45</td>\n",
       "      <td>African-American</td>\n",
       "      <td>Female</td>\n",
       "      <td>26</td>\n",
       "      <td>0</td>\n",
       "      <td>0</td>\n",
       "      <td>0</td>\n",
       "      <td>2</td>\n",
       "      <td>1</td>\n",
       "    </tr>\n",
       "    <tr>\n",
       "      <th>4</th>\n",
       "      <td>M</td>\n",
       "      <td>25 - 45</td>\n",
       "      <td>Caucasian</td>\n",
       "      <td>Male</td>\n",
       "      <td>37</td>\n",
       "      <td>0</td>\n",
       "      <td>0</td>\n",
       "      <td>0</td>\n",
       "      <td>0</td>\n",
       "      <td>0</td>\n",
       "    </tr>\n",
       "    <tr>\n",
       "      <th>5</th>\n",
       "      <td>F</td>\n",
       "      <td>25 - 45</td>\n",
       "      <td>Caucasian</td>\n",
       "      <td>Male</td>\n",
       "      <td>28</td>\n",
       "      <td>0</td>\n",
       "      <td>0</td>\n",
       "      <td>0</td>\n",
       "      <td>2</td>\n",
       "      <td>0</td>\n",
       "    </tr>\n",
       "    <tr>\n",
       "      <th>6</th>\n",
       "      <td>F</td>\n",
       "      <td>25 - 45</td>\n",
       "      <td>Caucasian</td>\n",
       "      <td>Male</td>\n",
       "      <td>33</td>\n",
       "      <td>0</td>\n",
       "      <td>0</td>\n",
       "      <td>0</td>\n",
       "      <td>0</td>\n",
       "      <td>0</td>\n",
       "    </tr>\n",
       "    <tr>\n",
       "      <th>7</th>\n",
       "      <td>M</td>\n",
       "      <td>Less than 25</td>\n",
       "      <td>African-American</td>\n",
       "      <td>Female</td>\n",
       "      <td>22</td>\n",
       "      <td>0</td>\n",
       "      <td>0</td>\n",
       "      <td>0</td>\n",
       "      <td>0</td>\n",
       "      <td>0</td>\n",
       "    </tr>\n",
       "    <tr>\n",
       "      <th>8</th>\n",
       "      <td>F</td>\n",
       "      <td>25 - 45</td>\n",
       "      <td>African-American</td>\n",
       "      <td>Male</td>\n",
       "      <td>28</td>\n",
       "      <td>1</td>\n",
       "      <td>0</td>\n",
       "      <td>0</td>\n",
       "      <td>3</td>\n",
       "      <td>1</td>\n",
       "    </tr>\n",
       "    <tr>\n",
       "      <th>9</th>\n",
       "      <td>M</td>\n",
       "      <td>25 - 45</td>\n",
       "      <td>Caucasian</td>\n",
       "      <td>Female</td>\n",
       "      <td>30</td>\n",
       "      <td>0</td>\n",
       "      <td>0</td>\n",
       "      <td>0</td>\n",
       "      <td>0</td>\n",
       "      <td>0</td>\n",
       "    </tr>\n",
       "  </tbody>\n",
       "</table>\n",
       "</div>"
      ],
      "text/plain": [
       "  c-charge-degree          age-cat              race     sex  age  \\\n",
       "0               M  Greater than 45  African-American  Female   55   \n",
       "1               F          25 - 45         Caucasian  Female   31   \n",
       "2               F          25 - 45          Hispanic    Male   26   \n",
       "3               M          25 - 45  African-American  Female   26   \n",
       "4               M          25 - 45         Caucasian    Male   37   \n",
       "5               F          25 - 45         Caucasian    Male   28   \n",
       "6               F          25 - 45         Caucasian    Male   33   \n",
       "7               M     Less than 25  African-American  Female   22   \n",
       "8               F          25 - 45  African-American    Male   28   \n",
       "9               M          25 - 45         Caucasian  Female   30   \n",
       "\n",
       "   juv-fel-count  juv-misd-count  juv-other-count  priors-count  \\\n",
       "0              0               0                0             1   \n",
       "1              0               0                0             5   \n",
       "2              0               0                0             0   \n",
       "3              0               0                0             2   \n",
       "4              0               0                0             0   \n",
       "5              0               0                0             2   \n",
       "6              0               0                0             0   \n",
       "7              0               0                0             0   \n",
       "8              1               0                0             3   \n",
       "9              0               0                0             0   \n",
       "\n",
       "   two-year-recid  \n",
       "0               0  \n",
       "1               0  \n",
       "2               0  \n",
       "3               1  \n",
       "4               0  \n",
       "5               0  \n",
       "6               0  \n",
       "7               0  \n",
       "8               1  \n",
       "9               0  "
      ]
     },
     "metadata": {},
     "output_type": "display_data"
    }
   ],
   "source": [
    "from IPython.display import display\n",
    "import pandas as pd\n",
    "\n",
    "display(pd.concat([g.iloc[[0]]for g in gan_cand_list],ignore_index=True))"
   ]
  },
  {
   "cell_type": "code",
   "execution_count": 9,
   "metadata": {
    "scrolled": true
   },
   "outputs": [
    {
     "name": "stderr",
     "output_type": "stream",
     "text": [
      "100%|██████████| 10/10 [00:35<00:00,  3.53s/it]\n"
     ]
    }
   ],
   "source": [
    "from gen_disinfos import WMcandidates, agg_disinfo\n",
    "from tqdm import tqdm\n",
    "  \n",
    "compas_1hot = Compas.data_1hot\n",
    "compas_label = Compas.label\n",
    "\n",
    "wm_gen = WMcandidates(compas_1hot, compas_label, target_indices)\n",
    "wm_cand_list = wm_gen.watermarking(tr_scaler, compas.columns, column_cat, column_int)"
   ]
  },
  {
   "cell_type": "code",
   "execution_count": 10,
   "metadata": {},
   "outputs": [
    {
     "data": {
      "text/html": [
       "<div>\n",
       "<style scoped>\n",
       "    .dataframe tbody tr th:only-of-type {\n",
       "        vertical-align: middle;\n",
       "    }\n",
       "\n",
       "    .dataframe tbody tr th {\n",
       "        vertical-align: top;\n",
       "    }\n",
       "\n",
       "    .dataframe thead th {\n",
       "        text-align: right;\n",
       "    }\n",
       "</style>\n",
       "<table border=\"1\" class=\"dataframe\">\n",
       "  <thead>\n",
       "    <tr style=\"text-align: right;\">\n",
       "      <th></th>\n",
       "      <th>c-charge-degree</th>\n",
       "      <th>age-cat</th>\n",
       "      <th>race</th>\n",
       "      <th>sex</th>\n",
       "      <th>age</th>\n",
       "      <th>juv-fel-count</th>\n",
       "      <th>juv-misd-count</th>\n",
       "      <th>juv-other-count</th>\n",
       "      <th>priors-count</th>\n",
       "      <th>two-year-recid</th>\n",
       "    </tr>\n",
       "  </thead>\n",
       "  <tbody>\n",
       "    <tr>\n",
       "      <th>0</th>\n",
       "      <td>M</td>\n",
       "      <td>Greater than 45</td>\n",
       "      <td>African-American</td>\n",
       "      <td>Female</td>\n",
       "      <td>55</td>\n",
       "      <td>0</td>\n",
       "      <td>0</td>\n",
       "      <td>0</td>\n",
       "      <td>1</td>\n",
       "      <td>0</td>\n",
       "    </tr>\n",
       "    <tr>\n",
       "      <th>1</th>\n",
       "      <td>F</td>\n",
       "      <td>25 - 45</td>\n",
       "      <td>Caucasian</td>\n",
       "      <td>Female</td>\n",
       "      <td>32</td>\n",
       "      <td>0</td>\n",
       "      <td>0</td>\n",
       "      <td>0</td>\n",
       "      <td>5</td>\n",
       "      <td>0</td>\n",
       "    </tr>\n",
       "    <tr>\n",
       "      <th>2</th>\n",
       "      <td>F</td>\n",
       "      <td>25 - 45</td>\n",
       "      <td>Hispanic</td>\n",
       "      <td>Male</td>\n",
       "      <td>26</td>\n",
       "      <td>0</td>\n",
       "      <td>0</td>\n",
       "      <td>0</td>\n",
       "      <td>0</td>\n",
       "      <td>0</td>\n",
       "    </tr>\n",
       "    <tr>\n",
       "      <th>3</th>\n",
       "      <td>M</td>\n",
       "      <td>25 - 45</td>\n",
       "      <td>African-American</td>\n",
       "      <td>Female</td>\n",
       "      <td>26</td>\n",
       "      <td>0</td>\n",
       "      <td>0</td>\n",
       "      <td>0</td>\n",
       "      <td>2</td>\n",
       "      <td>1</td>\n",
       "    </tr>\n",
       "    <tr>\n",
       "      <th>4</th>\n",
       "      <td>M</td>\n",
       "      <td>25 - 45</td>\n",
       "      <td>Caucasian</td>\n",
       "      <td>Male</td>\n",
       "      <td>37</td>\n",
       "      <td>0</td>\n",
       "      <td>0</td>\n",
       "      <td>0</td>\n",
       "      <td>0</td>\n",
       "      <td>0</td>\n",
       "    </tr>\n",
       "    <tr>\n",
       "      <th>5</th>\n",
       "      <td>F</td>\n",
       "      <td>25 - 45</td>\n",
       "      <td>Caucasian</td>\n",
       "      <td>Male</td>\n",
       "      <td>28</td>\n",
       "      <td>0</td>\n",
       "      <td>0</td>\n",
       "      <td>0</td>\n",
       "      <td>2</td>\n",
       "      <td>0</td>\n",
       "    </tr>\n",
       "    <tr>\n",
       "      <th>6</th>\n",
       "      <td>F</td>\n",
       "      <td>25 - 45</td>\n",
       "      <td>Caucasian</td>\n",
       "      <td>Male</td>\n",
       "      <td>33</td>\n",
       "      <td>0</td>\n",
       "      <td>0</td>\n",
       "      <td>0</td>\n",
       "      <td>0</td>\n",
       "      <td>0</td>\n",
       "    </tr>\n",
       "    <tr>\n",
       "      <th>7</th>\n",
       "      <td>M</td>\n",
       "      <td>Less than 25</td>\n",
       "      <td>African-American</td>\n",
       "      <td>Female</td>\n",
       "      <td>22</td>\n",
       "      <td>0</td>\n",
       "      <td>0</td>\n",
       "      <td>0</td>\n",
       "      <td>0</td>\n",
       "      <td>0</td>\n",
       "    </tr>\n",
       "    <tr>\n",
       "      <th>8</th>\n",
       "      <td>F</td>\n",
       "      <td>25 - 45</td>\n",
       "      <td>African-American</td>\n",
       "      <td>Male</td>\n",
       "      <td>28</td>\n",
       "      <td>1</td>\n",
       "      <td>0</td>\n",
       "      <td>0</td>\n",
       "      <td>5</td>\n",
       "      <td>1</td>\n",
       "    </tr>\n",
       "    <tr>\n",
       "      <th>9</th>\n",
       "      <td>M</td>\n",
       "      <td>25 - 45</td>\n",
       "      <td>Caucasian</td>\n",
       "      <td>Female</td>\n",
       "      <td>30</td>\n",
       "      <td>0</td>\n",
       "      <td>0</td>\n",
       "      <td>0</td>\n",
       "      <td>0</td>\n",
       "      <td>0</td>\n",
       "    </tr>\n",
       "  </tbody>\n",
       "</table>\n",
       "</div>"
      ],
      "text/plain": [
       "  c-charge-degree          age-cat              race     sex  age  \\\n",
       "0               M  Greater than 45  African-American  Female   55   \n",
       "1               F          25 - 45         Caucasian  Female   32   \n",
       "2               F          25 - 45          Hispanic    Male   26   \n",
       "3               M          25 - 45  African-American  Female   26   \n",
       "4               M          25 - 45         Caucasian    Male   37   \n",
       "5               F          25 - 45         Caucasian    Male   28   \n",
       "6               F          25 - 45         Caucasian    Male   33   \n",
       "7               M     Less than 25  African-American  Female   22   \n",
       "8               F          25 - 45  African-American    Male   28   \n",
       "9               M          25 - 45         Caucasian  Female   30   \n",
       "\n",
       "   juv-fel-count  juv-misd-count  juv-other-count  priors-count  \\\n",
       "0              0               0                0             1   \n",
       "1              0               0                0             5   \n",
       "2              0               0                0             0   \n",
       "3              0               0                0             2   \n",
       "4              0               0                0             0   \n",
       "5              0               0                0             2   \n",
       "6              0               0                0             0   \n",
       "7              0               0                0             0   \n",
       "8              1               0                0             5   \n",
       "9              0               0                0             0   \n",
       "\n",
       "   two-year-recid  \n",
       "0               0  \n",
       "1               0  \n",
       "2               0  \n",
       "3               1  \n",
       "4               0  \n",
       "5               0  \n",
       "6               0  \n",
       "7               0  \n",
       "8               1  \n",
       "9               0  "
      ]
     },
     "metadata": {},
     "output_type": "display_data"
    }
   ],
   "source": [
    "display(pd.concat([w.iloc[[0]]for w in wm_cand_list],ignore_index=True))"
   ]
  },
  {
   "cell_type": "code",
   "execution_count": 11,
   "metadata": {},
   "outputs": [
    {
     "name": "stdout",
     "output_type": "stream",
     "text": [
      "train models..\n"
     ]
    },
    {
     "name": "stderr",
     "output_type": "stream",
     "text": [
      "100%|██████████| 19/19 [00:50<00:00,  2.66s/it]\n",
      "19it [00:02,  6.50it/s]\n"
     ]
    }
   ],
   "source": [
    "from model import VictimModels\n",
    "\n",
    "v_models = VictimModels()\n",
    "v_models.train_all(x_tr, y_tr)\n",
    "result_clean = v_models.show_performance([(x_tr,y_tr), (x_te,y_te), (x_ta,y_ta)],\n",
    "                         cnames=['train', 'test','target'])"
   ]
  },
  {
   "cell_type": "code",
   "execution_count": 12,
   "metadata": {},
   "outputs": [
    {
     "name": "stderr",
     "output_type": "stream",
     "text": [
      "100%|██████████| 9/9 [00:00<00:00, 150.25it/s]\n",
      "100%|██████████| 9/9 [00:00<00:00, 275.07it/s]\n",
      "100%|██████████| 9/9 [00:00<00:00, 332.87it/s]\n",
      "100%|██████████| 9/9 [00:00<00:00, 283.35it/s]\n",
      "100%|██████████| 9/9 [00:00<00:00, 283.93it/s]\n",
      "100%|██████████| 9/9 [00:00<00:00, 321.64it/s]\n",
      "100%|██████████| 9/9 [00:00<00:00, 272.82it/s]\n",
      "100%|██████████| 9/9 [00:00<00:00, 280.50it/s]\n",
      "100%|██████████| 9/9 [00:00<00:00, 317.22it/s]\n",
      "100%|██████████| 9/9 [00:00<00:00, 270.80it/s]\n",
      "100%|██████████| 9/9 [00:00<00:00, 277.79it/s]\n",
      "100%|██████████| 9/9 [00:00<00:00, 323.88it/s]\n",
      "100%|██████████| 9/9 [00:00<00:00, 279.13it/s]\n",
      "100%|██████████| 9/9 [00:00<00:00, 306.23it/s]\n",
      "100%|██████████| 9/9 [00:00<00:00, 274.48it/s]\n",
      "100%|██████████| 9/9 [00:00<00:00, 279.77it/s]\n"
     ]
    }
   ],
   "source": [
    "import pandas as pd\n",
    "\n",
    "x_dis, y_dis = [], []\n",
    "for ti in range(n_target):\n",
    "    xt, yt = x_ta[ti], y_ta[ti]\n",
    "    wm_cand = wm_cand_list[ti]\n",
    "    gan_cand = gan_cand_list[ti]\n",
    "    candidates = pd.concat((wm_cand, gan_cand))\n",
    "    \n",
    "    x_tmp, y_tmp = agg_disinfo(prob_dec, candidates, tr_scaler, x_tr, y_tr, xt, yt, \n",
    "                               columns_1hot, n_disinfo=100)\n",
    "    x_dis.extend(x_tmp)\n",
    "    y_dis.extend(y_tmp)"
   ]
  },
  {
   "cell_type": "code",
   "execution_count": 13,
   "metadata": {},
   "outputs": [],
   "source": [
    "x_tr_dis = np.concatenate((x_tr, x_dis), axis=0)\n",
    "y_tr_dis = np.concatenate((y_tr, y_dis), axis=0).astype(int)"
   ]
  },
  {
   "cell_type": "code",
   "execution_count": 14,
   "metadata": {},
   "outputs": [
    {
     "name": "stdout",
     "output_type": "stream",
     "text": [
      "train models..\n"
     ]
    },
    {
     "name": "stderr",
     "output_type": "stream",
     "text": [
      "100%|██████████| 19/19 [00:55<00:00,  2.94s/it]\n",
      "19it [00:03,  5.28it/s]\n"
     ]
    }
   ],
   "source": [
    "v_models_dis = VictimModels()\n",
    "v_models_dis.train_all(x_tr_dis, y_tr_dis)\n",
    "result_dis = v_models_dis.show_performance([(x_tr,y_tr), (x_te,y_te), (x_ta,y_ta)],\n",
    "                         cnames=['train', 'test','target'])"
   ]
  },
  {
   "cell_type": "code",
   "execution_count": 15,
   "metadata": {},
   "outputs": [
    {
     "data": {
      "text/html": [
       "<div>\n",
       "<style scoped>\n",
       "    .dataframe tbody tr th:only-of-type {\n",
       "        vertical-align: middle;\n",
       "    }\n",
       "\n",
       "    .dataframe tbody tr th {\n",
       "        vertical-align: top;\n",
       "    }\n",
       "\n",
       "    .dataframe thead th {\n",
       "        text-align: right;\n",
       "    }\n",
       "</style>\n",
       "<table border=\"1\" class=\"dataframe\">\n",
       "  <thead>\n",
       "    <tr style=\"text-align: right;\">\n",
       "      <th></th>\n",
       "      <th>mean</th>\n",
       "      <th>std</th>\n",
       "    </tr>\n",
       "  </thead>\n",
       "  <tbody>\n",
       "    <tr>\n",
       "      <th>train acc</th>\n",
       "      <td>-1.765789</td>\n",
       "      <td>1.188483</td>\n",
       "    </tr>\n",
       "    <tr>\n",
       "      <th>test acc</th>\n",
       "      <td>-2.006316</td>\n",
       "      <td>1.582902</td>\n",
       "    </tr>\n",
       "    <tr>\n",
       "      <th>target acc</th>\n",
       "      <td>-24.736842</td>\n",
       "      <td>16.113632</td>\n",
       "    </tr>\n",
       "  </tbody>\n",
       "</table>\n",
       "</div>"
      ],
      "text/plain": [
       "                 mean        std\n",
       "train acc   -1.765789   1.188483\n",
       "test acc    -2.006316   1.582902\n",
       "target acc -24.736842  16.113632"
      ]
     },
     "execution_count": 15,
     "metadata": {},
     "output_type": "execute_result"
    }
   ],
   "source": [
    "from utils import compare_result\n",
    "\n",
    "compare_result(result_clean, result_dis)"
   ]
  },
  {
   "cell_type": "code",
   "execution_count": 102,
   "metadata": {},
   "outputs": [],
   "source": [
    "from sklearn.model_selection import train_test_split\n",
    "from model import AttackModels, attack_input\n",
    "\n",
    "np.random.seed(333)\n",
    "\n",
    "vi = 1\n",
    "\n",
    "victim_clean = v_models.models[vi]\n",
    "x_mia, y_mia, x_mia_ta, y_mia_ta = attack_input(victim_clean, x_tr, y_tr, x_te, y_te, x_ta, y_ta)\n",
    "x_mia_tr, x_mia_te, y_mia_tr, y_mia_te = train_test_split(x_mia, y_mia, test_size  = 0.25)"
   ]
  },
  {
   "cell_type": "code",
   "execution_count": 103,
   "metadata": {
    "scrolled": true
   },
   "outputs": [
    {
     "name": "stdout",
     "output_type": "stream",
     "text": [
      "train models..\n"
     ]
    },
    {
     "name": "stderr",
     "output_type": "stream",
     "text": [
      "100%|██████████| 19/19 [00:05<00:00,  3.25it/s]\n",
      "19it [00:01, 17.62it/s]\n"
     ]
    }
   ],
   "source": [
    "a_models = AttackModels()\n",
    "a_models.train_all(x_mia_tr, y_mia_tr)\n",
    "a_result_clean = a_models.show_performance([(x_mia_tr,y_mia_tr), (x_mia_te,y_mia_te), (x_mia_ta,y_mia_ta)],\n",
    "                         cnames=['train attack', 'test attack','target attack'])"
   ]
  },
  {
   "cell_type": "code",
   "execution_count": 104,
   "metadata": {},
   "outputs": [],
   "source": [
    "victim_dis = v_models_dis.models[vi]\n",
    "x_mia, y_mia, x_mia_ta, y_mia_ta = attack_input(victim_dis, x_tr, y_tr, x_te, y_te, x_ta, y_ta)\n",
    "x_mia_tr, x_mia_te, y_mia_tr, y_mia_te = train_test_split(x_mia, y_mia, test_size  = 0.25)"
   ]
  },
  {
   "cell_type": "code",
   "execution_count": 105,
   "metadata": {
    "scrolled": true
   },
   "outputs": [
    {
     "name": "stdout",
     "output_type": "stream",
     "text": [
      "train models..\n"
     ]
    },
    {
     "name": "stderr",
     "output_type": "stream",
     "text": [
      "100%|██████████| 19/19 [00:06<00:00,  2.98it/s]\n",
      "19it [00:01, 16.22it/s]\n"
     ]
    }
   ],
   "source": [
    "a_models_dis = AttackModels()\n",
    "a_models_dis.train_all(x_mia_tr, y_mia_tr)\n",
    "a_result_dis = a_models_dis.show_performance([(x_mia_tr,y_mia_tr), (x_mia_te,y_mia_te), (x_mia_ta,y_mia_ta)],\n",
    "                         cnames=['train attack', 'test attack','target attack'])"
   ]
  },
  {
   "cell_type": "code",
   "execution_count": 106,
   "metadata": {},
   "outputs": [
    {
     "data": {
      "text/html": [
       "<div>\n",
       "<style scoped>\n",
       "    .dataframe tbody tr th:only-of-type {\n",
       "        vertical-align: middle;\n",
       "    }\n",
       "\n",
       "    .dataframe tbody tr th {\n",
       "        vertical-align: top;\n",
       "    }\n",
       "\n",
       "    .dataframe thead th {\n",
       "        text-align: right;\n",
       "    }\n",
       "</style>\n",
       "<table border=\"1\" class=\"dataframe\">\n",
       "  <thead>\n",
       "    <tr style=\"text-align: right;\">\n",
       "      <th></th>\n",
       "      <th>mean</th>\n",
       "      <th>std</th>\n",
       "    </tr>\n",
       "  </thead>\n",
       "  <tbody>\n",
       "    <tr>\n",
       "      <th>train attack acc</th>\n",
       "      <td>0.300000</td>\n",
       "      <td>1.035047</td>\n",
       "    </tr>\n",
       "    <tr>\n",
       "      <th>test attack acc</th>\n",
       "      <td>-0.675714</td>\n",
       "      <td>2.360990</td>\n",
       "    </tr>\n",
       "    <tr>\n",
       "      <th>target attack acc</th>\n",
       "      <td>-10.714286</td>\n",
       "      <td>9.972490</td>\n",
       "    </tr>\n",
       "  </tbody>\n",
       "</table>\n",
       "</div>"
      ],
      "text/plain": [
       "                        mean       std\n",
       "train attack acc    0.300000  1.035047\n",
       "test attack acc    -0.675714  2.360990\n",
       "target attack acc -10.714286  9.972490"
      ]
     },
     "execution_count": 106,
     "metadata": {},
     "output_type": "execute_result"
    }
   ],
   "source": [
    "idxs = a_result_clean['target attack acc'] >= 0.5\n",
    "compare_result(a_result_clean.loc[idxs], a_result_dis.loc[idxs])"
   ]
  },
  {
   "cell_type": "code",
   "execution_count": null,
   "metadata": {},
   "outputs": [],
   "source": []
  }
 ],
 "metadata": {
  "kernelspec": {
   "display_name": "snorkel",
   "language": "python",
   "name": "snorkel"
  },
  "language_info": {
   "codemirror_mode": {
    "name": "ipython",
    "version": 3
   },
   "file_extension": ".py",
   "mimetype": "text/x-python",
   "name": "python",
   "nbconvert_exporter": "python",
   "pygments_lexer": "ipython3",
   "version": "3.6.13"
  }
 },
 "nbformat": 4,
 "nbformat_minor": 4
}
