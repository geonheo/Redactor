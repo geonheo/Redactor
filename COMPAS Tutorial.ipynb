{
 "cells": [
  {
   "cell_type": "code",
   "execution_count": 1,
   "metadata": {
    "ExecuteTime": {
     "end_time": "2022-03-16T05:18:41.263672Z",
     "start_time": "2022-03-16T05:18:41.246992Z"
    }
   },
   "outputs": [],
   "source": [
    "import warnings\n",
    "\n",
    "warnings.filterwarnings(action='ignore')"
   ]
  },
  {
   "cell_type": "markdown",
   "metadata": {},
   "source": [
    "# COMPAS Tutorial Code\n",
    "\n",
    "The process is exactly same with \"Tutorial.ipynb\", but only difference is the structure of models. "
   ]
  },
  {
   "cell_type": "code",
   "execution_count": 21,
   "metadata": {
    "ExecuteTime": {
     "end_time": "2022-03-16T11:41:43.590241Z",
     "start_time": "2022-03-16T11:41:43.365050Z"
    }
   },
   "outputs": [],
   "source": [
    "from preprocessing import Dataset\n",
    "import numpy as np\n",
    "\n",
    "np.random.seed(224)\n",
    "\n",
    "test_size = 0.25\n",
    "n_target = 10\n",
    "\n",
    "Compas = Dataset('compas')\n",
    "target_indices = np.random.choice(Compas.data.index, n_target)\n",
    "(x_tr,y_tr), (x_te,y_te), (x_ta,y_ta), tr_scaler = Compas.split_dataset(test_size, target_indices)"
   ]
  },
  {
   "cell_type": "code",
   "execution_count": 22,
   "metadata": {
    "ExecuteTime": {
     "end_time": "2022-03-16T11:41:53.671972Z",
     "start_time": "2022-03-16T11:41:43.700073Z"
    }
   },
   "outputs": [
    {
     "name": "stdout",
     "output_type": "stream",
     "text": [
      "train models..\n"
     ]
    },
    {
     "name": "stderr",
     "output_type": "stream",
     "text": [
      "100%|██████████| 9/9 [00:09<00:00,  1.07s/it]\n",
      "9it [00:00, 26.72it/s]\n"
     ]
    },
    {
     "data": {
      "text/html": [
       "<div>\n",
       "<style scoped>\n",
       "    .dataframe tbody tr th:only-of-type {\n",
       "        vertical-align: middle;\n",
       "    }\n",
       "\n",
       "    .dataframe tbody tr th {\n",
       "        vertical-align: top;\n",
       "    }\n",
       "\n",
       "    .dataframe thead th {\n",
       "        text-align: right;\n",
       "    }\n",
       "</style>\n",
       "<table border=\"1\" class=\"dataframe\">\n",
       "  <thead>\n",
       "    <tr style=\"text-align: right;\">\n",
       "      <th></th>\n",
       "      <th>train acc</th>\n",
       "      <th>test acc</th>\n",
       "      <th>target acc</th>\n",
       "    </tr>\n",
       "  </thead>\n",
       "  <tbody>\n",
       "    <tr>\n",
       "      <th>s-nn_tanh_10_2</th>\n",
       "      <td>0.7758</td>\n",
       "      <td>0.7589</td>\n",
       "      <td>0.8</td>\n",
       "    </tr>\n",
       "    <tr>\n",
       "      <th>s-nn_relu_5_2</th>\n",
       "      <td>0.7615</td>\n",
       "      <td>0.7680</td>\n",
       "      <td>0.7</td>\n",
       "    </tr>\n",
       "    <tr>\n",
       "      <th>s-nn_relu_25_10</th>\n",
       "      <td>0.7768</td>\n",
       "      <td>0.7667</td>\n",
       "      <td>0.8</td>\n",
       "    </tr>\n",
       "    <tr>\n",
       "      <th>s-nn_identity</th>\n",
       "      <td>0.7526</td>\n",
       "      <td>0.7699</td>\n",
       "      <td>0.7</td>\n",
       "    </tr>\n",
       "    <tr>\n",
       "      <th>s-rf_gini</th>\n",
       "      <td>0.7589</td>\n",
       "      <td>0.7693</td>\n",
       "      <td>0.6</td>\n",
       "    </tr>\n",
       "    <tr>\n",
       "      <th>s-rf_entropy</th>\n",
       "      <td>0.7585</td>\n",
       "      <td>0.7673</td>\n",
       "      <td>0.6</td>\n",
       "    </tr>\n",
       "    <tr>\n",
       "      <th>s-gb</th>\n",
       "      <td>0.7596</td>\n",
       "      <td>0.7719</td>\n",
       "      <td>0.6</td>\n",
       "    </tr>\n",
       "    <tr>\n",
       "      <th>s-ada</th>\n",
       "      <td>0.7561</td>\n",
       "      <td>0.7680</td>\n",
       "      <td>0.6</td>\n",
       "    </tr>\n",
       "    <tr>\n",
       "      <th>s-log_reg</th>\n",
       "      <td>0.7546</td>\n",
       "      <td>0.7712</td>\n",
       "      <td>0.7</td>\n",
       "    </tr>\n",
       "  </tbody>\n",
       "</table>\n",
       "</div>"
      ],
      "text/plain": [
       "                 train acc  test acc  target acc\n",
       "s-nn_tanh_10_2      0.7758    0.7589         0.8\n",
       "s-nn_relu_5_2       0.7615    0.7680         0.7\n",
       "s-nn_relu_25_10     0.7768    0.7667         0.8\n",
       "s-nn_identity       0.7526    0.7699         0.7\n",
       "s-rf_gini           0.7589    0.7693         0.6\n",
       "s-rf_entropy        0.7585    0.7673         0.6\n",
       "s-gb                0.7596    0.7719         0.6\n",
       "s-ada               0.7561    0.7680         0.6\n",
       "s-log_reg           0.7546    0.7712         0.7"
      ]
     },
     "execution_count": 22,
     "metadata": {},
     "output_type": "execute_result"
    }
   ],
   "source": [
    "from model import SurrogateModels\n",
    "\n",
    "model_names = ['nn_tanh_10_2','nn_relu_5_2', 'nn_relu_25_10', 'nn_identity',\n",
    "               'rf_gini', 'rf_entropy', 'gb', 'ada', 'log_reg']\n",
    "\n",
    "s_models = SurrogateModels(model_names)\n",
    "s_models.train_all(x_tr, y_tr)\n",
    "s_models.show_performance([(x_tr,y_tr), (x_te,y_te), (x_ta,y_ta)],\n",
    "                         cnames=['train', 'test','target'])"
   ]
  },
  {
   "cell_type": "code",
   "execution_count": 23,
   "metadata": {
    "ExecuteTime": {
     "end_time": "2022-03-16T11:41:54.532336Z",
     "start_time": "2022-03-16T11:41:53.674051Z"
    }
   },
   "outputs": [
    {
     "name": "stderr",
     "output_type": "stream",
     "text": [
      "100%|██████████| 9/9 [00:00<00:00, 36.38it/s]\n",
      "100%|██████████| 9/9 [00:00<00:00, 77.12it/s]\n"
     ]
    }
   ],
   "source": [
    "from prob_decision_boundary import PDB\n",
    "\n",
    "prob_dec = PDB(s_models.models)\n",
    "x_all = np.concatenate([x_tr, x_te], axis=0)\n",
    "prob_dec.fit_all(x_all)\n",
    "sn_te_labels = prob_dec.predict(x_te)"
   ]
  },
  {
   "cell_type": "code",
   "execution_count": 24,
   "metadata": {
    "ExecuteTime": {
     "end_time": "2022-03-16T11:41:54.548083Z",
     "start_time": "2022-03-16T11:41:54.534814Z"
    }
   },
   "outputs": [
    {
     "name": "stdout",
     "output_type": "stream",
     "text": [
      "Test Acc: 0.7777057679844459\n"
     ]
    }
   ],
   "source": [
    "sn_te_labels[sn_te_labels == -1] = 0\n",
    "te_acc = sum(sn_te_labels==y_te)/len(y_te)\n",
    "print('Test Acc: %s' % te_acc)"
   ]
  },
  {
   "cell_type": "code",
   "execution_count": 25,
   "metadata": {
    "ExecuteTime": {
     "end_time": "2022-03-16T11:42:29.706459Z",
     "start_time": "2022-03-16T11:41:54.550620Z"
    }
   },
   "outputs": [],
   "source": [
    "from gen_disinfos import GANcandidates\n",
    "\n",
    "compas = Compas.data\n",
    "column_cat = Compas.column_cat\n",
    "column_int = Compas.column_int\n",
    "columns_1hot = Compas.data_1hot.columns\n",
    "\n",
    "gan_gen = GANcandidates()\n",
    "gan_gen.fit(compas, column_cat, column_int)"
   ]
  },
  {
   "cell_type": "code",
   "execution_count": 26,
   "metadata": {
    "ExecuteTime": {
     "end_time": "2022-03-16T11:42:51.600277Z",
     "start_time": "2022-03-16T11:42:29.708760Z"
    },
    "scrolled": true
   },
   "outputs": [],
   "source": [
    "_ = gan_gen.generate()\n",
    "gan_cand_list = gan_gen.nearest_points(tr_scaler, target_indices, columns_1hot)"
   ]
  },
  {
   "cell_type": "code",
   "execution_count": 27,
   "metadata": {
    "ExecuteTime": {
     "end_time": "2022-03-16T11:42:51.629132Z",
     "start_time": "2022-03-16T11:42:51.602640Z"
    },
    "scrolled": false
   },
   "outputs": [
    {
     "data": {
      "text/html": [
       "<div>\n",
       "<style scoped>\n",
       "    .dataframe tbody tr th:only-of-type {\n",
       "        vertical-align: middle;\n",
       "    }\n",
       "\n",
       "    .dataframe tbody tr th {\n",
       "        vertical-align: top;\n",
       "    }\n",
       "\n",
       "    .dataframe thead th {\n",
       "        text-align: right;\n",
       "    }\n",
       "</style>\n",
       "<table border=\"1\" class=\"dataframe\">\n",
       "  <thead>\n",
       "    <tr style=\"text-align: right;\">\n",
       "      <th></th>\n",
       "      <th>c-charge-degree</th>\n",
       "      <th>age-cat</th>\n",
       "      <th>race</th>\n",
       "      <th>sex</th>\n",
       "      <th>age</th>\n",
       "      <th>juv-fel-count</th>\n",
       "      <th>juv-misd-count</th>\n",
       "      <th>juv-other-count</th>\n",
       "      <th>priors-count</th>\n",
       "      <th>two-year-recid</th>\n",
       "    </tr>\n",
       "  </thead>\n",
       "  <tbody>\n",
       "    <tr>\n",
       "      <th>0</th>\n",
       "      <td>M</td>\n",
       "      <td>25 - 45</td>\n",
       "      <td>African-American</td>\n",
       "      <td>Male</td>\n",
       "      <td>27</td>\n",
       "      <td>0</td>\n",
       "      <td>0</td>\n",
       "      <td>0</td>\n",
       "      <td>0</td>\n",
       "      <td>0</td>\n",
       "    </tr>\n",
       "    <tr>\n",
       "      <th>1</th>\n",
       "      <td>M</td>\n",
       "      <td>Less than 25</td>\n",
       "      <td>African-American</td>\n",
       "      <td>Male</td>\n",
       "      <td>22</td>\n",
       "      <td>0</td>\n",
       "      <td>0</td>\n",
       "      <td>0</td>\n",
       "      <td>0</td>\n",
       "      <td>1</td>\n",
       "    </tr>\n",
       "    <tr>\n",
       "      <th>2</th>\n",
       "      <td>M</td>\n",
       "      <td>25 - 45</td>\n",
       "      <td>African-American</td>\n",
       "      <td>Male</td>\n",
       "      <td>31</td>\n",
       "      <td>0</td>\n",
       "      <td>0</td>\n",
       "      <td>0</td>\n",
       "      <td>0</td>\n",
       "      <td>0</td>\n",
       "    </tr>\n",
       "    <tr>\n",
       "      <th>3</th>\n",
       "      <td>M</td>\n",
       "      <td>25 - 45</td>\n",
       "      <td>Hispanic</td>\n",
       "      <td>Male</td>\n",
       "      <td>44</td>\n",
       "      <td>0</td>\n",
       "      <td>0</td>\n",
       "      <td>0</td>\n",
       "      <td>1</td>\n",
       "      <td>1</td>\n",
       "    </tr>\n",
       "    <tr>\n",
       "      <th>4</th>\n",
       "      <td>F</td>\n",
       "      <td>25 - 45</td>\n",
       "      <td>Caucasian</td>\n",
       "      <td>Female</td>\n",
       "      <td>25</td>\n",
       "      <td>0</td>\n",
       "      <td>0</td>\n",
       "      <td>0</td>\n",
       "      <td>2</td>\n",
       "      <td>1</td>\n",
       "    </tr>\n",
       "    <tr>\n",
       "      <th>5</th>\n",
       "      <td>F</td>\n",
       "      <td>25 - 45</td>\n",
       "      <td>African-American</td>\n",
       "      <td>Male</td>\n",
       "      <td>26</td>\n",
       "      <td>0</td>\n",
       "      <td>0</td>\n",
       "      <td>0</td>\n",
       "      <td>2</td>\n",
       "      <td>0</td>\n",
       "    </tr>\n",
       "    <tr>\n",
       "      <th>6</th>\n",
       "      <td>M</td>\n",
       "      <td>25 - 45</td>\n",
       "      <td>Caucasian</td>\n",
       "      <td>Female</td>\n",
       "      <td>31</td>\n",
       "      <td>0</td>\n",
       "      <td>0</td>\n",
       "      <td>1</td>\n",
       "      <td>0</td>\n",
       "      <td>0</td>\n",
       "    </tr>\n",
       "    <tr>\n",
       "      <th>7</th>\n",
       "      <td>F</td>\n",
       "      <td>25 - 45</td>\n",
       "      <td>African-American</td>\n",
       "      <td>Male</td>\n",
       "      <td>44</td>\n",
       "      <td>0</td>\n",
       "      <td>0</td>\n",
       "      <td>0</td>\n",
       "      <td>16</td>\n",
       "      <td>1</td>\n",
       "    </tr>\n",
       "    <tr>\n",
       "      <th>8</th>\n",
       "      <td>F</td>\n",
       "      <td>Less than 25</td>\n",
       "      <td>African-American</td>\n",
       "      <td>Male</td>\n",
       "      <td>23</td>\n",
       "      <td>0</td>\n",
       "      <td>0</td>\n",
       "      <td>0</td>\n",
       "      <td>2</td>\n",
       "      <td>0</td>\n",
       "    </tr>\n",
       "    <tr>\n",
       "      <th>9</th>\n",
       "      <td>F</td>\n",
       "      <td>25 - 45</td>\n",
       "      <td>African-American</td>\n",
       "      <td>Male</td>\n",
       "      <td>28</td>\n",
       "      <td>0</td>\n",
       "      <td>0</td>\n",
       "      <td>0</td>\n",
       "      <td>4</td>\n",
       "      <td>1</td>\n",
       "    </tr>\n",
       "  </tbody>\n",
       "</table>\n",
       "</div>"
      ],
      "text/plain": [
       "  c-charge-degree       age-cat              race     sex  age  juv-fel-count  \\\n",
       "0               M       25 - 45  African-American    Male   27              0   \n",
       "1               M  Less than 25  African-American    Male   22              0   \n",
       "2               M       25 - 45  African-American    Male   31              0   \n",
       "3               M       25 - 45          Hispanic    Male   44              0   \n",
       "4               F       25 - 45         Caucasian  Female   25              0   \n",
       "5               F       25 - 45  African-American    Male   26              0   \n",
       "6               M       25 - 45         Caucasian  Female   31              0   \n",
       "7               F       25 - 45  African-American    Male   44              0   \n",
       "8               F  Less than 25  African-American    Male   23              0   \n",
       "9               F       25 - 45  African-American    Male   28              0   \n",
       "\n",
       "   juv-misd-count  juv-other-count  priors-count  two-year-recid  \n",
       "0               0                0             0               0  \n",
       "1               0                0             0               1  \n",
       "2               0                0             0               0  \n",
       "3               0                0             1               1  \n",
       "4               0                0             2               1  \n",
       "5               0                0             2               0  \n",
       "6               0                1             0               0  \n",
       "7               0                0            16               1  \n",
       "8               0                0             2               0  \n",
       "9               0                0             4               1  "
      ]
     },
     "metadata": {},
     "output_type": "display_data"
    }
   ],
   "source": [
    "from IPython.display import display\n",
    "import pandas as pd\n",
    "\n",
    "display(pd.concat([g.iloc[[0]]for g in gan_cand_list],ignore_index=True))"
   ]
  },
  {
   "cell_type": "code",
   "execution_count": 28,
   "metadata": {
    "ExecuteTime": {
     "end_time": "2022-03-16T11:43:29.080957Z",
     "start_time": "2022-03-16T11:42:51.631151Z"
    },
    "scrolled": true
   },
   "outputs": [
    {
     "name": "stderr",
     "output_type": "stream",
     "text": [
      "100%|██████████| 10/10 [00:37<00:00,  3.74s/it]\n"
     ]
    }
   ],
   "source": [
    "from gen_disinfos import WMcandidates, agg_disinfo\n",
    "from tqdm import tqdm\n",
    "  \n",
    "compas_1hot = Compas.data_1hot\n",
    "compas_label = Compas.label\n",
    "\n",
    "wm_gen = WMcandidates(compas_1hot, compas_label, target_indices)\n",
    "wm_cand_list = wm_gen.watermarking(tr_scaler, compas.columns, column_cat, column_int)"
   ]
  },
  {
   "cell_type": "code",
   "execution_count": 29,
   "metadata": {
    "ExecuteTime": {
     "end_time": "2022-03-16T11:43:29.100945Z",
     "start_time": "2022-03-16T11:43:29.083314Z"
    }
   },
   "outputs": [
    {
     "data": {
      "text/html": [
       "<div>\n",
       "<style scoped>\n",
       "    .dataframe tbody tr th:only-of-type {\n",
       "        vertical-align: middle;\n",
       "    }\n",
       "\n",
       "    .dataframe tbody tr th {\n",
       "        vertical-align: top;\n",
       "    }\n",
       "\n",
       "    .dataframe thead th {\n",
       "        text-align: right;\n",
       "    }\n",
       "</style>\n",
       "<table border=\"1\" class=\"dataframe\">\n",
       "  <thead>\n",
       "    <tr style=\"text-align: right;\">\n",
       "      <th></th>\n",
       "      <th>c-charge-degree</th>\n",
       "      <th>age-cat</th>\n",
       "      <th>race</th>\n",
       "      <th>sex</th>\n",
       "      <th>age</th>\n",
       "      <th>juv-fel-count</th>\n",
       "      <th>juv-misd-count</th>\n",
       "      <th>juv-other-count</th>\n",
       "      <th>priors-count</th>\n",
       "      <th>two-year-recid</th>\n",
       "    </tr>\n",
       "  </thead>\n",
       "  <tbody>\n",
       "    <tr>\n",
       "      <th>0</th>\n",
       "      <td>M</td>\n",
       "      <td>25 - 45</td>\n",
       "      <td>African-American</td>\n",
       "      <td>Male</td>\n",
       "      <td>27</td>\n",
       "      <td>0</td>\n",
       "      <td>0</td>\n",
       "      <td>0</td>\n",
       "      <td>0</td>\n",
       "      <td>0</td>\n",
       "    </tr>\n",
       "    <tr>\n",
       "      <th>1</th>\n",
       "      <td>M</td>\n",
       "      <td>Less than 25</td>\n",
       "      <td>African-American</td>\n",
       "      <td>Male</td>\n",
       "      <td>22</td>\n",
       "      <td>0</td>\n",
       "      <td>0</td>\n",
       "      <td>0</td>\n",
       "      <td>0</td>\n",
       "      <td>1</td>\n",
       "    </tr>\n",
       "    <tr>\n",
       "      <th>2</th>\n",
       "      <td>M</td>\n",
       "      <td>25 - 45</td>\n",
       "      <td>African-American</td>\n",
       "      <td>Male</td>\n",
       "      <td>31</td>\n",
       "      <td>0</td>\n",
       "      <td>0</td>\n",
       "      <td>0</td>\n",
       "      <td>0</td>\n",
       "      <td>0</td>\n",
       "    </tr>\n",
       "    <tr>\n",
       "      <th>3</th>\n",
       "      <td>M</td>\n",
       "      <td>25 - 45</td>\n",
       "      <td>Hispanic</td>\n",
       "      <td>Male</td>\n",
       "      <td>43</td>\n",
       "      <td>0</td>\n",
       "      <td>0</td>\n",
       "      <td>0</td>\n",
       "      <td>1</td>\n",
       "      <td>1</td>\n",
       "    </tr>\n",
       "    <tr>\n",
       "      <th>4</th>\n",
       "      <td>F</td>\n",
       "      <td>25 - 45</td>\n",
       "      <td>Caucasian</td>\n",
       "      <td>Female</td>\n",
       "      <td>26</td>\n",
       "      <td>0</td>\n",
       "      <td>0</td>\n",
       "      <td>0</td>\n",
       "      <td>2</td>\n",
       "      <td>1</td>\n",
       "    </tr>\n",
       "    <tr>\n",
       "      <th>5</th>\n",
       "      <td>F</td>\n",
       "      <td>25 - 45</td>\n",
       "      <td>African-American</td>\n",
       "      <td>Male</td>\n",
       "      <td>26</td>\n",
       "      <td>0</td>\n",
       "      <td>0</td>\n",
       "      <td>0</td>\n",
       "      <td>2</td>\n",
       "      <td>0</td>\n",
       "    </tr>\n",
       "    <tr>\n",
       "      <th>6</th>\n",
       "      <td>M</td>\n",
       "      <td>25 - 45</td>\n",
       "      <td>Caucasian</td>\n",
       "      <td>Female</td>\n",
       "      <td>32</td>\n",
       "      <td>0</td>\n",
       "      <td>0</td>\n",
       "      <td>1</td>\n",
       "      <td>0</td>\n",
       "      <td>0</td>\n",
       "    </tr>\n",
       "    <tr>\n",
       "      <th>7</th>\n",
       "      <td>F</td>\n",
       "      <td>25 - 45</td>\n",
       "      <td>African-American</td>\n",
       "      <td>Male</td>\n",
       "      <td>43</td>\n",
       "      <td>0</td>\n",
       "      <td>0</td>\n",
       "      <td>0</td>\n",
       "      <td>18</td>\n",
       "      <td>1</td>\n",
       "    </tr>\n",
       "    <tr>\n",
       "      <th>8</th>\n",
       "      <td>F</td>\n",
       "      <td>Less than 25</td>\n",
       "      <td>African-American</td>\n",
       "      <td>Male</td>\n",
       "      <td>23</td>\n",
       "      <td>0</td>\n",
       "      <td>0</td>\n",
       "      <td>0</td>\n",
       "      <td>2</td>\n",
       "      <td>0</td>\n",
       "    </tr>\n",
       "    <tr>\n",
       "      <th>9</th>\n",
       "      <td>F</td>\n",
       "      <td>25 - 45</td>\n",
       "      <td>African-American</td>\n",
       "      <td>Male</td>\n",
       "      <td>28</td>\n",
       "      <td>0</td>\n",
       "      <td>0</td>\n",
       "      <td>0</td>\n",
       "      <td>4</td>\n",
       "      <td>1</td>\n",
       "    </tr>\n",
       "  </tbody>\n",
       "</table>\n",
       "</div>"
      ],
      "text/plain": [
       "  c-charge-degree       age-cat              race     sex  age  juv-fel-count  \\\n",
       "0               M       25 - 45  African-American    Male   27              0   \n",
       "1               M  Less than 25  African-American    Male   22              0   \n",
       "2               M       25 - 45  African-American    Male   31              0   \n",
       "3               M       25 - 45          Hispanic    Male   43              0   \n",
       "4               F       25 - 45         Caucasian  Female   26              0   \n",
       "5               F       25 - 45  African-American    Male   26              0   \n",
       "6               M       25 - 45         Caucasian  Female   32              0   \n",
       "7               F       25 - 45  African-American    Male   43              0   \n",
       "8               F  Less than 25  African-American    Male   23              0   \n",
       "9               F       25 - 45  African-American    Male   28              0   \n",
       "\n",
       "   juv-misd-count  juv-other-count  priors-count  two-year-recid  \n",
       "0               0                0             0               0  \n",
       "1               0                0             0               1  \n",
       "2               0                0             0               0  \n",
       "3               0                0             1               1  \n",
       "4               0                0             2               1  \n",
       "5               0                0             2               0  \n",
       "6               0                1             0               0  \n",
       "7               0                0            18               1  \n",
       "8               0                0             2               0  \n",
       "9               0                0             4               1  "
      ]
     },
     "metadata": {},
     "output_type": "display_data"
    }
   ],
   "source": [
    "display(pd.concat([w.iloc[[0]]for w in wm_cand_list],ignore_index=True))"
   ]
  },
  {
   "cell_type": "code",
   "execution_count": 30,
   "metadata": {
    "ExecuteTime": {
     "end_time": "2022-03-16T11:44:20.746027Z",
     "start_time": "2022-03-16T11:43:29.102817Z"
    }
   },
   "outputs": [
    {
     "name": "stdout",
     "output_type": "stream",
     "text": [
      "train models..\n"
     ]
    },
    {
     "name": "stderr",
     "output_type": "stream",
     "text": [
      "100%|██████████| 19/19 [00:48<00:00,  2.56s/it]\n",
      "19it [00:02,  6.58it/s]\n"
     ]
    }
   ],
   "source": [
    "from model import VictimModels\n",
    "\n",
    "v_models = VictimModels()\n",
    "v_models.train_all(x_tr, y_tr)\n",
    "result_clean = v_models.show_performance([(x_tr,y_tr), (x_te,y_te), (x_ta,y_ta)],\n",
    "                         cnames=['train', 'test','target'])"
   ]
  },
  {
   "cell_type": "code",
   "execution_count": 31,
   "metadata": {
    "ExecuteTime": {
     "end_time": "2022-03-16T11:44:21.589123Z",
     "start_time": "2022-03-16T11:44:20.748014Z"
    }
   },
   "outputs": [
    {
     "name": "stderr",
     "output_type": "stream",
     "text": [
      "100%|██████████| 9/9 [00:00<00:00, 134.47it/s]\n",
      "100%|██████████| 9/9 [00:00<00:00, 274.27it/s]\n",
      "100%|██████████| 9/9 [00:00<00:00, 326.80it/s]\n",
      "100%|██████████| 9/9 [00:00<00:00, 264.95it/s]\n",
      "100%|██████████| 9/9 [00:00<00:00, 272.47it/s]\n",
      "100%|██████████| 9/9 [00:00<00:00, 318.13it/s]\n",
      "100%|██████████| 9/9 [00:00<00:00, 278.12it/s]\n",
      "100%|██████████| 9/9 [00:00<00:00, 296.29it/s]\n",
      "100%|██████████| 9/9 [00:00<00:00, 283.47it/s]\n",
      "100%|██████████| 9/9 [00:00<00:00, 297.04it/s]\n",
      "100%|██████████| 9/9 [00:00<00:00, 274.13it/s]\n",
      "100%|██████████| 9/9 [00:00<00:00, 321.91it/s]\n",
      "100%|██████████| 9/9 [00:00<00:00, 279.04it/s]\n",
      "100%|██████████| 9/9 [00:00<00:00, 320.41it/s]\n",
      "100%|██████████| 9/9 [00:00<00:00, 283.75it/s]\n",
      "100%|██████████| 9/9 [00:00<00:00, 281.15it/s]\n",
      "100%|██████████| 9/9 [00:00<00:00, 300.24it/s]\n"
     ]
    }
   ],
   "source": [
    "import pandas as pd\n",
    "\n",
    "x_dis, y_dis = [], []\n",
    "for ti in range(n_target):\n",
    "    xt, yt = x_ta[ti], y_ta[ti]\n",
    "    wm_cand = wm_cand_list[ti]\n",
    "    gan_cand = gan_cand_list[ti]\n",
    "    candidates = pd.concat((wm_cand, gan_cand))\n",
    "    \n",
    "    x_tmp, y_tmp = agg_disinfo(prob_dec, candidates, tr_scaler, x_tr, y_tr, xt, yt, \n",
    "                               columns_1hot, n_disinfo=200)\n",
    "    x_dis.extend(x_tmp)\n",
    "    y_dis.extend(y_tmp)"
   ]
  },
  {
   "cell_type": "code",
   "execution_count": 32,
   "metadata": {
    "ExecuteTime": {
     "end_time": "2022-03-16T11:44:21.595628Z",
     "start_time": "2022-03-16T11:44:21.590779Z"
    }
   },
   "outputs": [],
   "source": [
    "x_tr_dis = np.concatenate((x_tr, x_dis), axis=0)\n",
    "y_tr_dis = np.concatenate((y_tr, y_dis), axis=0).astype(int)"
   ]
  },
  {
   "cell_type": "code",
   "execution_count": 33,
   "metadata": {
    "ExecuteTime": {
     "end_time": "2022-03-16T11:45:34.203266Z",
     "start_time": "2022-03-16T11:44:21.597330Z"
    }
   },
   "outputs": [
    {
     "name": "stdout",
     "output_type": "stream",
     "text": [
      "train models..\n"
     ]
    },
    {
     "name": "stderr",
     "output_type": "stream",
     "text": [
      "100%|██████████| 19/19 [01:09<00:00,  3.64s/it]\n",
      "19it [00:03,  5.52it/s]\n"
     ]
    }
   ],
   "source": [
    "v_models_dis = VictimModels()\n",
    "v_models_dis.train_all(x_tr_dis, y_tr_dis)\n",
    "result_dis = v_models_dis.show_performance([(x_tr,y_tr), (x_te,y_te), (x_ta,y_ta)],\n",
    "                         cnames=['train', 'test','target'])"
   ]
  },
  {
   "cell_type": "code",
   "execution_count": 34,
   "metadata": {
    "ExecuteTime": {
     "end_time": "2022-03-16T11:45:34.220117Z",
     "start_time": "2022-03-16T11:45:34.205420Z"
    }
   },
   "outputs": [
    {
     "data": {
      "text/html": [
       "<div>\n",
       "<style scoped>\n",
       "    .dataframe tbody tr th:only-of-type {\n",
       "        vertical-align: middle;\n",
       "    }\n",
       "\n",
       "    .dataframe tbody tr th {\n",
       "        vertical-align: top;\n",
       "    }\n",
       "\n",
       "    .dataframe thead th {\n",
       "        text-align: right;\n",
       "    }\n",
       "</style>\n",
       "<table border=\"1\" class=\"dataframe\">\n",
       "  <thead>\n",
       "    <tr style=\"text-align: right;\">\n",
       "      <th></th>\n",
       "      <th>mean</th>\n",
       "      <th>std</th>\n",
       "    </tr>\n",
       "  </thead>\n",
       "  <tbody>\n",
       "    <tr>\n",
       "      <th>train acc</th>\n",
       "      <td>-2.285789</td>\n",
       "      <td>1.266036</td>\n",
       "    </tr>\n",
       "    <tr>\n",
       "      <th>test acc</th>\n",
       "      <td>-2.297895</td>\n",
       "      <td>1.418386</td>\n",
       "    </tr>\n",
       "    <tr>\n",
       "      <th>target acc</th>\n",
       "      <td>-36.315789</td>\n",
       "      <td>16.401398</td>\n",
       "    </tr>\n",
       "  </tbody>\n",
       "</table>\n",
       "</div>"
      ],
      "text/plain": [
       "                 mean        std\n",
       "train acc   -2.285789   1.266036\n",
       "test acc    -2.297895   1.418386\n",
       "target acc -36.315789  16.401398"
      ]
     },
     "execution_count": 34,
     "metadata": {},
     "output_type": "execute_result"
    }
   ],
   "source": [
    "from utils import compare_result\n",
    "\n",
    "compare_result(result_clean, result_dis)"
   ]
  },
  {
   "cell_type": "code",
   "execution_count": 40,
   "metadata": {
    "ExecuteTime": {
     "end_time": "2022-03-16T11:53:14.957531Z",
     "start_time": "2022-03-16T11:53:11.407215Z"
    }
   },
   "outputs": [],
   "source": [
    "from sklearn.model_selection import train_test_split\n",
    "from model import AttackModels, attack_input\n",
    "\n",
    "np.random.seed(726)\n",
    "\n",
    "vi = 1\n",
    "\n",
    "victim_clean = v_models.models[vi]\n",
    "x_mia, y_mia, x_mia_ta, y_mia_ta = attack_input(victim_clean, x_tr, y_tr, x_te, y_te, x_ta, y_ta)\n",
    "x_mia_tr, x_mia_te, y_mia_tr, y_mia_te = train_test_split(x_mia, y_mia, test_size  = 0.25)"
   ]
  },
  {
   "cell_type": "code",
   "execution_count": 41,
   "metadata": {
    "ExecuteTime": {
     "end_time": "2022-03-16T11:53:29.545323Z",
     "start_time": "2022-03-16T11:53:14.960014Z"
    },
    "scrolled": true
   },
   "outputs": [
    {
     "name": "stdout",
     "output_type": "stream",
     "text": [
      "train models..\n"
     ]
    },
    {
     "name": "stderr",
     "output_type": "stream",
     "text": [
      "100%|██████████| 19/19 [00:12<00:00,  1.55it/s]\n",
      "19it [00:02,  8.35it/s]\n"
     ]
    }
   ],
   "source": [
    "a_models = AttackModels()\n",
    "a_models.train_all(x_mia_tr, y_mia_tr)\n",
    "a_result_clean = a_models.show_performance([(x_mia_tr,y_mia_tr), (x_mia_te,y_mia_te), (x_mia_ta,y_mia_ta)],\n",
    "                         cnames=['train attack', 'test attack','target attack'])"
   ]
  },
  {
   "cell_type": "code",
   "execution_count": 42,
   "metadata": {
    "ExecuteTime": {
     "end_time": "2022-03-16T11:53:33.087053Z",
     "start_time": "2022-03-16T11:53:29.551825Z"
    }
   },
   "outputs": [],
   "source": [
    "victim_dis = v_models_dis.models[vi]\n",
    "x_mia, y_mia, x_mia_ta, y_mia_ta = attack_input(victim_dis, x_tr, y_tr, x_te, y_te, x_ta, y_ta)\n",
    "x_mia_tr, x_mia_te, y_mia_tr, y_mia_te = train_test_split(x_mia, y_mia, test_size  = 0.25)"
   ]
  },
  {
   "cell_type": "code",
   "execution_count": 43,
   "metadata": {
    "ExecuteTime": {
     "end_time": "2022-03-16T11:53:47.944515Z",
     "start_time": "2022-03-16T11:53:33.089029Z"
    },
    "scrolled": true
   },
   "outputs": [
    {
     "name": "stdout",
     "output_type": "stream",
     "text": [
      "train models..\n"
     ]
    },
    {
     "name": "stderr",
     "output_type": "stream",
     "text": [
      "100%|██████████| 19/19 [00:12<00:00,  1.51it/s]\n",
      "19it [00:02,  8.29it/s]\n"
     ]
    }
   ],
   "source": [
    "a_models_dis = AttackModels()\n",
    "a_models_dis.train_all(x_mia_tr, y_mia_tr)\n",
    "a_result_dis = a_models_dis.show_performance([(x_mia_tr,y_mia_tr), (x_mia_te,y_mia_te), (x_mia_ta,y_mia_ta)],\n",
    "                         cnames=['train attack', 'test attack','target attack'])"
   ]
  },
  {
   "cell_type": "code",
   "execution_count": 44,
   "metadata": {
    "ExecuteTime": {
     "end_time": "2022-03-16T11:53:47.970277Z",
     "start_time": "2022-03-16T11:53:47.946903Z"
    }
   },
   "outputs": [
    {
     "data": {
      "text/html": [
       "<div>\n",
       "<style scoped>\n",
       "    .dataframe tbody tr th:only-of-type {\n",
       "        vertical-align: middle;\n",
       "    }\n",
       "\n",
       "    .dataframe tbody tr th {\n",
       "        vertical-align: top;\n",
       "    }\n",
       "\n",
       "    .dataframe thead th {\n",
       "        text-align: right;\n",
       "    }\n",
       "</style>\n",
       "<table border=\"1\" class=\"dataframe\">\n",
       "  <thead>\n",
       "    <tr style=\"text-align: right;\">\n",
       "      <th></th>\n",
       "      <th>mean</th>\n",
       "      <th>std</th>\n",
       "    </tr>\n",
       "  </thead>\n",
       "  <tbody>\n",
       "    <tr>\n",
       "      <th>train attack acc</th>\n",
       "      <td>-0.153333</td>\n",
       "      <td>1.071952</td>\n",
       "    </tr>\n",
       "    <tr>\n",
       "      <th>test attack acc</th>\n",
       "      <td>2.806667</td>\n",
       "      <td>2.291935</td>\n",
       "    </tr>\n",
       "    <tr>\n",
       "      <th>target attack acc</th>\n",
       "      <td>-18.000000</td>\n",
       "      <td>25.967012</td>\n",
       "    </tr>\n",
       "  </tbody>\n",
       "</table>\n",
       "</div>"
      ],
      "text/plain": [
       "                        mean        std\n",
       "train attack acc   -0.153333   1.071952\n",
       "test attack acc     2.806667   2.291935\n",
       "target attack acc -18.000000  25.967012"
      ]
     },
     "execution_count": 44,
     "metadata": {},
     "output_type": "execute_result"
    }
   ],
   "source": [
    "idxs = a_result_clean['target attack acc'] >= 0.5\n",
    "compare_result(a_result_clean.loc[idxs], a_result_dis.loc[idxs])"
   ]
  },
  {
   "cell_type": "code",
   "execution_count": null,
   "metadata": {},
   "outputs": [],
   "source": []
  },
  {
   "cell_type": "code",
   "execution_count": null,
   "metadata": {},
   "outputs": [],
   "source": []
  },
  {
   "cell_type": "code",
   "execution_count": null,
   "metadata": {},
   "outputs": [],
   "source": []
  }
 ],
 "metadata": {
  "kernelspec": {
   "display_name": "snorkel",
   "language": "python",
   "name": "snorkel"
  },
  "language_info": {
   "codemirror_mode": {
    "name": "ipython",
    "version": 3
   },
   "file_extension": ".py",
   "mimetype": "text/x-python",
   "name": "python",
   "nbconvert_exporter": "python",
   "pygments_lexer": "ipython3",
   "version": "3.6.13"
  }
 },
 "nbformat": 4,
 "nbformat_minor": 4
}
