{
 "cells": [
  {
   "cell_type": "code",
   "execution_count": 1,
   "metadata": {
    "ExecuteTime": {
     "end_time": "2022-03-16T11:36:19.136697Z",
     "start_time": "2022-03-16T11:36:19.124590Z"
    }
   },
   "outputs": [],
   "source": [
    "import warnings\n",
    "\n",
    "warnings.filterwarnings(action='ignore')"
   ]
  },
  {
   "cell_type": "markdown",
   "metadata": {},
   "source": [
    "# Redactor Tutorial Code\n",
    "\n",
    "## AdultCensus Dataset"
   ]
  },
  {
   "cell_type": "markdown",
   "metadata": {},
   "source": [
    "## 1. Load Dataset\n",
    "\n",
    "* You can load dataset using **Dataset** class in **preprocessing**.\n",
    "* After loading, the data can be splitted and normalized by the method **split_dataset()**."
   ]
  },
  {
   "cell_type": "code",
   "execution_count": 2,
   "metadata": {
    "ExecuteTime": {
     "end_time": "2022-03-16T11:36:21.472445Z",
     "start_time": "2022-03-16T11:36:19.852279Z"
    },
    "scrolled": true
   },
   "outputs": [],
   "source": [
    "from preprocessing import Dataset\n",
    "import numpy as np\n",
    "\n",
    "np.random.seed(224)\n",
    "\n",
    "test_size = 0.25\n",
    "n_target = 10\n",
    "\n",
    "Adult = Dataset('adult')\n",
    "target_indices = np.random.choice(Adult.data.index, n_target)\n",
    "(x_tr,y_tr), (x_te,y_te), (x_ta,y_ta), tr_scaler = Adult.split_dataset(test_size, target_indices)"
   ]
  },
  {
   "cell_type": "markdown",
   "metadata": {},
   "source": [
    "## 2. Train Surrogate Models\n",
    "\n",
    "* You can load and train surrogate models through **SurrogateModels** class.\n",
    "* There is **show_performance** method to check the performance of the trained models.\n",
    "    * Except accuracy score,there are other choices, such as **f1 score**, **confidence**, **roc auc**, and etc."
   ]
  },
  {
   "cell_type": "code",
   "execution_count": 3,
   "metadata": {
    "ExecuteTime": {
     "end_time": "2022-03-16T11:37:16.440110Z",
     "start_time": "2022-03-16T11:36:21.474107Z"
    },
    "scrolled": true
   },
   "outputs": [
    {
     "name": "stdout",
     "output_type": "stream",
     "text": [
      "train models..\n"
     ]
    },
    {
     "name": "stderr",
     "output_type": "stream",
     "text": [
      "100%|██████████| 6/6 [00:52<00:00,  8.83s/it]\n",
      "6it [00:01,  3.10it/s]\n"
     ]
    },
    {
     "data": {
      "text/html": [
       "<div>\n",
       "<style scoped>\n",
       "    .dataframe tbody tr th:only-of-type {\n",
       "        vertical-align: middle;\n",
       "    }\n",
       "\n",
       "    .dataframe tbody tr th {\n",
       "        vertical-align: top;\n",
       "    }\n",
       "\n",
       "    .dataframe thead th {\n",
       "        text-align: right;\n",
       "    }\n",
       "</style>\n",
       "<table border=\"1\" class=\"dataframe\">\n",
       "  <thead>\n",
       "    <tr style=\"text-align: right;\">\n",
       "      <th></th>\n",
       "      <th>train acc</th>\n",
       "      <th>test acc</th>\n",
       "      <th>target acc</th>\n",
       "    </tr>\n",
       "  </thead>\n",
       "  <tbody>\n",
       "    <tr>\n",
       "      <th>s-nn_tanh_10_2</th>\n",
       "      <td>0.8640</td>\n",
       "      <td>0.8471</td>\n",
       "      <td>1.0</td>\n",
       "    </tr>\n",
       "    <tr>\n",
       "      <th>s-nn_relu_5_2</th>\n",
       "      <td>0.8577</td>\n",
       "      <td>0.8546</td>\n",
       "      <td>1.0</td>\n",
       "    </tr>\n",
       "    <tr>\n",
       "      <th>s-rf_entropy</th>\n",
       "      <td>0.8521</td>\n",
       "      <td>0.8541</td>\n",
       "      <td>0.9</td>\n",
       "    </tr>\n",
       "    <tr>\n",
       "      <th>s-gb</th>\n",
       "      <td>0.8626</td>\n",
       "      <td>0.8652</td>\n",
       "      <td>1.0</td>\n",
       "    </tr>\n",
       "    <tr>\n",
       "      <th>s-ada</th>\n",
       "      <td>0.8608</td>\n",
       "      <td>0.8629</td>\n",
       "      <td>1.0</td>\n",
       "    </tr>\n",
       "    <tr>\n",
       "      <th>s-log_reg</th>\n",
       "      <td>0.8482</td>\n",
       "      <td>0.8534</td>\n",
       "      <td>1.0</td>\n",
       "    </tr>\n",
       "  </tbody>\n",
       "</table>\n",
       "</div>"
      ],
      "text/plain": [
       "                train acc  test acc  target acc\n",
       "s-nn_tanh_10_2     0.8640    0.8471         1.0\n",
       "s-nn_relu_5_2      0.8577    0.8546         1.0\n",
       "s-rf_entropy       0.8521    0.8541         0.9\n",
       "s-gb               0.8626    0.8652         1.0\n",
       "s-ada              0.8608    0.8629         1.0\n",
       "s-log_reg          0.8482    0.8534         1.0"
      ]
     },
     "execution_count": 3,
     "metadata": {},
     "output_type": "execute_result"
    }
   ],
   "source": [
    "from model import SurrogateModels\n",
    "    \n",
    "model_names = ['nn_tanh_10_2','nn_relu_5_2', 'rf_entropy', 'gb', 'ada', 'log_reg']\n",
    "\n",
    "s_models = SurrogateModels(model_names)\n",
    "s_models.train_all(x_tr, y_tr)\n",
    "s_models.show_performance([(x_tr,y_tr), (x_te,y_te), (x_ta,y_ta)],\n",
    "                         cnames=['train', 'test','target'])\n",
    "#s_models.cross_validation(x_tr, y_tr, k=3)"
   ]
  },
  {
   "cell_type": "markdown",
   "metadata": {},
   "source": [
    "## 3. Probabilistic Decision Boundary\n",
    "\n",
    "* You can construct Probabilistic Decision Boundary using **PDB** class.\n",
    "    1. Input the surrogate models trained on the previous step.\n",
    "    2. Train PDB using all x data (without label)"
   ]
  },
  {
   "cell_type": "code",
   "execution_count": 4,
   "metadata": {
    "ExecuteTime": {
     "end_time": "2022-03-16T11:37:20.049685Z",
     "start_time": "2022-03-16T11:37:16.442428Z"
    }
   },
   "outputs": [
    {
     "name": "stderr",
     "output_type": "stream",
     "text": [
      "100%|██████████| 6/6 [00:01<00:00,  3.19it/s]\n",
      "100%|██████████| 6/6 [00:00<00:00, 12.72it/s]\n"
     ]
    }
   ],
   "source": [
    "from prob_decision_boundary import PDB\n",
    "\n",
    "prob_dec = PDB(s_models.models)\n",
    "x_all = np.concatenate([x_tr, x_te], axis=0)\n",
    "prob_dec.fit_all(x_all)"
   ]
  },
  {
   "cell_type": "code",
   "execution_count": 5,
   "metadata": {
    "ExecuteTime": {
     "end_time": "2022-03-16T11:37:20.098990Z",
     "start_time": "2022-03-16T11:37:20.051825Z"
    }
   },
   "outputs": [],
   "source": [
    "sn_te_labels[sn_te_labels == -1] = 0\n",
    "te_acc = sum(sn_te_labels==y_te)/len(y_te)"
   ]
  },
  {
   "cell_type": "markdown",
   "metadata": {},
   "source": [
    "# Candidate Generation\n",
    "## 4. GAN-based\n",
    "\n",
    "* In this part, you can generate candidates using CTGAN.\n",
    "* You can input tabular data without one-hot encoding.\n",
    "* After generating through the method **generate()**, you can insert the nearest ones in the list."
   ]
  },
  {
   "cell_type": "code",
   "execution_count": 6,
   "metadata": {
    "ExecuteTime": {
     "end_time": "2022-03-16T11:42:32.781736Z",
     "start_time": "2022-03-16T11:37:20.100586Z"
    },
    "scrolled": true
   },
   "outputs": [],
   "source": [
    "from gen_disinfos import GANcandidates\n",
    "\n",
    "adult = Adult.data\n",
    "column_cat = Adult.column_cat\n",
    "column_int = Adult.column_int\n",
    "columns_1hot = Adult.data_1hot.columns\n",
    "\n",
    "gan_gen = GANcandidates()\n",
    "gan_gen.fit(adult, column_cat, column_int)"
   ]
  },
  {
   "cell_type": "code",
   "execution_count": 7,
   "metadata": {
    "ExecuteTime": {
     "end_time": "2022-03-16T11:43:24.013601Z",
     "start_time": "2022-03-16T11:42:32.783812Z"
    }
   },
   "outputs": [],
   "source": [
    "_ = gan_gen.generate()\n",
    "gan_cand_list = gan_gen.nearest_points(tr_scaler, target_indices, columns_1hot)"
   ]
  },
  {
   "cell_type": "code",
   "execution_count": 8,
   "metadata": {
    "ExecuteTime": {
     "end_time": "2022-03-16T11:43:24.040727Z",
     "start_time": "2022-03-16T11:43:24.015527Z"
    },
    "scrolled": true
   },
   "outputs": [
    {
     "data": {
      "text/html": [
       "<div>\n",
       "<style scoped>\n",
       "    .dataframe tbody tr th:only-of-type {\n",
       "        vertical-align: middle;\n",
       "    }\n",
       "\n",
       "    .dataframe tbody tr th {\n",
       "        vertical-align: top;\n",
       "    }\n",
       "\n",
       "    .dataframe thead th {\n",
       "        text-align: right;\n",
       "    }\n",
       "</style>\n",
       "<table border=\"1\" class=\"dataframe\">\n",
       "  <thead>\n",
       "    <tr style=\"text-align: right;\">\n",
       "      <th></th>\n",
       "      <th>age</th>\n",
       "      <th>workclass</th>\n",
       "      <th>fnlwgt</th>\n",
       "      <th>education</th>\n",
       "      <th>educational-num</th>\n",
       "      <th>marital-status</th>\n",
       "      <th>occupation</th>\n",
       "      <th>relationship</th>\n",
       "      <th>race</th>\n",
       "      <th>gender</th>\n",
       "      <th>capital-gain</th>\n",
       "      <th>capital-loss</th>\n",
       "      <th>hours-per-week</th>\n",
       "      <th>native-country</th>\n",
       "    </tr>\n",
       "  </thead>\n",
       "  <tbody>\n",
       "    <tr>\n",
       "      <th>0</th>\n",
       "      <td>31</td>\n",
       "      <td>Private</td>\n",
       "      <td>194162</td>\n",
       "      <td>Bachelors</td>\n",
       "      <td>13</td>\n",
       "      <td>Never-married</td>\n",
       "      <td>Prof-specialty</td>\n",
       "      <td>Not-in-family</td>\n",
       "      <td>White</td>\n",
       "      <td>Male</td>\n",
       "      <td>0</td>\n",
       "      <td>0</td>\n",
       "      <td>39</td>\n",
       "      <td>United-States</td>\n",
       "    </tr>\n",
       "    <tr>\n",
       "      <th>1</th>\n",
       "      <td>33</td>\n",
       "      <td>Private</td>\n",
       "      <td>187087</td>\n",
       "      <td>HS-grad</td>\n",
       "      <td>8</td>\n",
       "      <td>Married-civ-spouse</td>\n",
       "      <td>Adm-clerical</td>\n",
       "      <td>Husband</td>\n",
       "      <td>White</td>\n",
       "      <td>Male</td>\n",
       "      <td>0</td>\n",
       "      <td>0</td>\n",
       "      <td>40</td>\n",
       "      <td>United-States</td>\n",
       "    </tr>\n",
       "    <tr>\n",
       "      <th>2</th>\n",
       "      <td>31</td>\n",
       "      <td>Private</td>\n",
       "      <td>222424</td>\n",
       "      <td>HS-grad</td>\n",
       "      <td>9</td>\n",
       "      <td>Never-married</td>\n",
       "      <td>Craft-repair</td>\n",
       "      <td>Not-in-family</td>\n",
       "      <td>White</td>\n",
       "      <td>Male</td>\n",
       "      <td>4</td>\n",
       "      <td>0</td>\n",
       "      <td>40</td>\n",
       "      <td>United-States</td>\n",
       "    </tr>\n",
       "    <tr>\n",
       "      <th>3</th>\n",
       "      <td>38</td>\n",
       "      <td>Local-gov</td>\n",
       "      <td>136242</td>\n",
       "      <td>Some-college</td>\n",
       "      <td>10</td>\n",
       "      <td>Married-civ-spouse</td>\n",
       "      <td>Exec-managerial</td>\n",
       "      <td>Husband</td>\n",
       "      <td>White</td>\n",
       "      <td>Male</td>\n",
       "      <td>2</td>\n",
       "      <td>0</td>\n",
       "      <td>39</td>\n",
       "      <td>United-States</td>\n",
       "    </tr>\n",
       "    <tr>\n",
       "      <th>4</th>\n",
       "      <td>44</td>\n",
       "      <td>Private</td>\n",
       "      <td>167444</td>\n",
       "      <td>Some-college</td>\n",
       "      <td>10</td>\n",
       "      <td>Never-married</td>\n",
       "      <td>Craft-repair</td>\n",
       "      <td>Not-in-family</td>\n",
       "      <td>White</td>\n",
       "      <td>Male</td>\n",
       "      <td>7</td>\n",
       "      <td>0</td>\n",
       "      <td>39</td>\n",
       "      <td>United-States</td>\n",
       "    </tr>\n",
       "    <tr>\n",
       "      <th>5</th>\n",
       "      <td>31</td>\n",
       "      <td>Private</td>\n",
       "      <td>185776</td>\n",
       "      <td>Bachelors</td>\n",
       "      <td>13</td>\n",
       "      <td>Never-married</td>\n",
       "      <td>Exec-managerial</td>\n",
       "      <td>Not-in-family</td>\n",
       "      <td>White</td>\n",
       "      <td>Female</td>\n",
       "      <td>12</td>\n",
       "      <td>0</td>\n",
       "      <td>59</td>\n",
       "      <td>United-States</td>\n",
       "    </tr>\n",
       "    <tr>\n",
       "      <th>6</th>\n",
       "      <td>39</td>\n",
       "      <td>Federal-gov</td>\n",
       "      <td>131020</td>\n",
       "      <td>Masters</td>\n",
       "      <td>15</td>\n",
       "      <td>Married-civ-spouse</td>\n",
       "      <td>Prof-specialty</td>\n",
       "      <td>Husband</td>\n",
       "      <td>White</td>\n",
       "      <td>Male</td>\n",
       "      <td>0</td>\n",
       "      <td>0</td>\n",
       "      <td>54</td>\n",
       "      <td>United-States</td>\n",
       "    </tr>\n",
       "    <tr>\n",
       "      <th>7</th>\n",
       "      <td>25</td>\n",
       "      <td>Private</td>\n",
       "      <td>193237</td>\n",
       "      <td>HS-grad</td>\n",
       "      <td>8</td>\n",
       "      <td>Married-civ-spouse</td>\n",
       "      <td>Sales</td>\n",
       "      <td>Wife</td>\n",
       "      <td>White</td>\n",
       "      <td>Female</td>\n",
       "      <td>0</td>\n",
       "      <td>0</td>\n",
       "      <td>21</td>\n",
       "      <td>United-States</td>\n",
       "    </tr>\n",
       "    <tr>\n",
       "      <th>8</th>\n",
       "      <td>24</td>\n",
       "      <td>Private</td>\n",
       "      <td>199887</td>\n",
       "      <td>Some-college</td>\n",
       "      <td>10</td>\n",
       "      <td>Never-married</td>\n",
       "      <td>Sales</td>\n",
       "      <td>Own-child</td>\n",
       "      <td>White</td>\n",
       "      <td>Female</td>\n",
       "      <td>0</td>\n",
       "      <td>0</td>\n",
       "      <td>39</td>\n",
       "      <td>United-States</td>\n",
       "    </tr>\n",
       "    <tr>\n",
       "      <th>9</th>\n",
       "      <td>40</td>\n",
       "      <td>Local-gov</td>\n",
       "      <td>381079</td>\n",
       "      <td>Doctorate</td>\n",
       "      <td>14</td>\n",
       "      <td>Never-married</td>\n",
       "      <td>Prof-specialty</td>\n",
       "      <td>Not-in-family</td>\n",
       "      <td>Black</td>\n",
       "      <td>Female</td>\n",
       "      <td>0</td>\n",
       "      <td>0</td>\n",
       "      <td>39</td>\n",
       "      <td>United-States</td>\n",
       "    </tr>\n",
       "  </tbody>\n",
       "</table>\n",
       "</div>"
      ],
      "text/plain": [
       "   age    workclass  fnlwgt     education  educational-num  \\\n",
       "0   31      Private  194162     Bachelors               13   \n",
       "1   33      Private  187087       HS-grad                8   \n",
       "2   31      Private  222424       HS-grad                9   \n",
       "3   38    Local-gov  136242  Some-college               10   \n",
       "4   44      Private  167444  Some-college               10   \n",
       "5   31      Private  185776     Bachelors               13   \n",
       "6   39  Federal-gov  131020       Masters               15   \n",
       "7   25      Private  193237       HS-grad                8   \n",
       "8   24      Private  199887  Some-college               10   \n",
       "9   40    Local-gov  381079     Doctorate               14   \n",
       "\n",
       "       marital-status       occupation   relationship   race  gender  \\\n",
       "0       Never-married   Prof-specialty  Not-in-family  White    Male   \n",
       "1  Married-civ-spouse     Adm-clerical        Husband  White    Male   \n",
       "2       Never-married     Craft-repair  Not-in-family  White    Male   \n",
       "3  Married-civ-spouse  Exec-managerial        Husband  White    Male   \n",
       "4       Never-married     Craft-repair  Not-in-family  White    Male   \n",
       "5       Never-married  Exec-managerial  Not-in-family  White  Female   \n",
       "6  Married-civ-spouse   Prof-specialty        Husband  White    Male   \n",
       "7  Married-civ-spouse            Sales           Wife  White  Female   \n",
       "8       Never-married            Sales      Own-child  White  Female   \n",
       "9       Never-married   Prof-specialty  Not-in-family  Black  Female   \n",
       "\n",
       "   capital-gain  capital-loss  hours-per-week native-country  \n",
       "0             0             0              39  United-States  \n",
       "1             0             0              40  United-States  \n",
       "2             4             0              40  United-States  \n",
       "3             2             0              39  United-States  \n",
       "4             7             0              39  United-States  \n",
       "5            12             0              59  United-States  \n",
       "6             0             0              54  United-States  \n",
       "7             0             0              21  United-States  \n",
       "8             0             0              39  United-States  \n",
       "9             0             0              39  United-States  "
      ]
     },
     "metadata": {},
     "output_type": "display_data"
    }
   ],
   "source": [
    "from IPython.display import display\n",
    "import pandas as pd\n",
    "\n",
    "display(pd.concat([g.iloc[[0]]for g in gan_cand_list],ignore_index=True))"
   ]
  },
  {
   "cell_type": "markdown",
   "metadata": {},
   "source": [
    "## 5. WM-based\n",
    "* **WMcandidates** class is for generating candidates using Watermarking technique.\n",
    "* You can generate them using the method **watermarking()**."
   ]
  },
  {
   "cell_type": "code",
   "execution_count": 9,
   "metadata": {
    "ExecuteTime": {
     "end_time": "2022-03-16T11:48:18.241215Z",
     "start_time": "2022-03-16T11:43:24.042893Z"
    },
    "scrolled": true
   },
   "outputs": [
    {
     "name": "stderr",
     "output_type": "stream",
     "text": [
      "100%|██████████| 10/10 [04:54<00:00, 29.42s/it]\n"
     ]
    }
   ],
   "source": [
    "from gen_disinfos import WMcandidates, agg_disinfo\n",
    "from tqdm import tqdm\n",
    "  \n",
    "adult_1hot = Adult.data_1hot\n",
    "adult_label = Adult.label\n",
    "\n",
    "wm_gen = WMcandidates(adult_1hot, adult_label, target_indices)\n",
    "wm_cand_list = wm_gen.watermarking(tr_scaler, adult.columns, column_cat, column_int)"
   ]
  },
  {
   "cell_type": "code",
   "execution_count": 10,
   "metadata": {
    "ExecuteTime": {
     "end_time": "2022-03-16T11:48:18.271075Z",
     "start_time": "2022-03-16T11:48:18.243351Z"
    },
    "scrolled": true
   },
   "outputs": [
    {
     "data": {
      "text/html": [
       "<div>\n",
       "<style scoped>\n",
       "    .dataframe tbody tr th:only-of-type {\n",
       "        vertical-align: middle;\n",
       "    }\n",
       "\n",
       "    .dataframe tbody tr th {\n",
       "        vertical-align: top;\n",
       "    }\n",
       "\n",
       "    .dataframe thead th {\n",
       "        text-align: right;\n",
       "    }\n",
       "</style>\n",
       "<table border=\"1\" class=\"dataframe\">\n",
       "  <thead>\n",
       "    <tr style=\"text-align: right;\">\n",
       "      <th></th>\n",
       "      <th>age</th>\n",
       "      <th>workclass</th>\n",
       "      <th>fnlwgt</th>\n",
       "      <th>education</th>\n",
       "      <th>educational-num</th>\n",
       "      <th>marital-status</th>\n",
       "      <th>occupation</th>\n",
       "      <th>relationship</th>\n",
       "      <th>race</th>\n",
       "      <th>gender</th>\n",
       "      <th>capital-gain</th>\n",
       "      <th>capital-loss</th>\n",
       "      <th>hours-per-week</th>\n",
       "      <th>native-country</th>\n",
       "    </tr>\n",
       "  </thead>\n",
       "  <tbody>\n",
       "    <tr>\n",
       "      <th>0</th>\n",
       "      <td>33</td>\n",
       "      <td>Private</td>\n",
       "      <td>222139</td>\n",
       "      <td>Bachelors</td>\n",
       "      <td>13</td>\n",
       "      <td>Never-married</td>\n",
       "      <td>Prof-specialty</td>\n",
       "      <td>Not-in-family</td>\n",
       "      <td>White</td>\n",
       "      <td>Male</td>\n",
       "      <td>0</td>\n",
       "      <td>0</td>\n",
       "      <td>40</td>\n",
       "      <td>United-States</td>\n",
       "    </tr>\n",
       "    <tr>\n",
       "      <th>1</th>\n",
       "      <td>32</td>\n",
       "      <td>Private</td>\n",
       "      <td>193663</td>\n",
       "      <td>HS-grad</td>\n",
       "      <td>9</td>\n",
       "      <td>Married-civ-spouse</td>\n",
       "      <td>Adm-clerical</td>\n",
       "      <td>Husband</td>\n",
       "      <td>White</td>\n",
       "      <td>Male</td>\n",
       "      <td>0</td>\n",
       "      <td>0</td>\n",
       "      <td>40</td>\n",
       "      <td>United-States</td>\n",
       "    </tr>\n",
       "    <tr>\n",
       "      <th>2</th>\n",
       "      <td>29</td>\n",
       "      <td>Private</td>\n",
       "      <td>241110</td>\n",
       "      <td>HS-grad</td>\n",
       "      <td>9</td>\n",
       "      <td>Never-married</td>\n",
       "      <td>Craft-repair</td>\n",
       "      <td>Not-in-family</td>\n",
       "      <td>White</td>\n",
       "      <td>Male</td>\n",
       "      <td>2510</td>\n",
       "      <td>0</td>\n",
       "      <td>40</td>\n",
       "      <td>United-States</td>\n",
       "    </tr>\n",
       "    <tr>\n",
       "      <th>3</th>\n",
       "      <td>38</td>\n",
       "      <td>Local-gov</td>\n",
       "      <td>115813</td>\n",
       "      <td>Some-college</td>\n",
       "      <td>10</td>\n",
       "      <td>Married-civ-spouse</td>\n",
       "      <td>Exec-managerial</td>\n",
       "      <td>Husband</td>\n",
       "      <td>White</td>\n",
       "      <td>Male</td>\n",
       "      <td>0</td>\n",
       "      <td>0</td>\n",
       "      <td>40</td>\n",
       "      <td>United-States</td>\n",
       "    </tr>\n",
       "    <tr>\n",
       "      <th>4</th>\n",
       "      <td>32</td>\n",
       "      <td>Private</td>\n",
       "      <td>58981</td>\n",
       "      <td>Some-college</td>\n",
       "      <td>10</td>\n",
       "      <td>Never-married</td>\n",
       "      <td>Craft-repair</td>\n",
       "      <td>Not-in-family</td>\n",
       "      <td>White</td>\n",
       "      <td>Male</td>\n",
       "      <td>0</td>\n",
       "      <td>0</td>\n",
       "      <td>46</td>\n",
       "      <td>United-States</td>\n",
       "    </tr>\n",
       "    <tr>\n",
       "      <th>5</th>\n",
       "      <td>25</td>\n",
       "      <td>Private</td>\n",
       "      <td>191232</td>\n",
       "      <td>Bachelors</td>\n",
       "      <td>13</td>\n",
       "      <td>Never-married</td>\n",
       "      <td>Exec-managerial</td>\n",
       "      <td>Not-in-family</td>\n",
       "      <td>White</td>\n",
       "      <td>Female</td>\n",
       "      <td>0</td>\n",
       "      <td>0</td>\n",
       "      <td>60</td>\n",
       "      <td>United-States</td>\n",
       "    </tr>\n",
       "    <tr>\n",
       "      <th>6</th>\n",
       "      <td>53</td>\n",
       "      <td>Federal-gov</td>\n",
       "      <td>275064</td>\n",
       "      <td>Masters</td>\n",
       "      <td>14</td>\n",
       "      <td>Married-civ-spouse</td>\n",
       "      <td>Adm-clerical</td>\n",
       "      <td>Husband</td>\n",
       "      <td>White</td>\n",
       "      <td>Male</td>\n",
       "      <td>0</td>\n",
       "      <td>0</td>\n",
       "      <td>40</td>\n",
       "      <td>United-States</td>\n",
       "    </tr>\n",
       "    <tr>\n",
       "      <th>7</th>\n",
       "      <td>27</td>\n",
       "      <td>Private</td>\n",
       "      <td>276537</td>\n",
       "      <td>HS-grad</td>\n",
       "      <td>9</td>\n",
       "      <td>Married-civ-spouse</td>\n",
       "      <td>Sales</td>\n",
       "      <td>Wife</td>\n",
       "      <td>White</td>\n",
       "      <td>Female</td>\n",
       "      <td>0</td>\n",
       "      <td>0</td>\n",
       "      <td>21</td>\n",
       "      <td>United-States</td>\n",
       "    </tr>\n",
       "    <tr>\n",
       "      <th>8</th>\n",
       "      <td>25</td>\n",
       "      <td>Private</td>\n",
       "      <td>185504</td>\n",
       "      <td>Some-college</td>\n",
       "      <td>10</td>\n",
       "      <td>Never-married</td>\n",
       "      <td>Sales</td>\n",
       "      <td>Own-child</td>\n",
       "      <td>White</td>\n",
       "      <td>Female</td>\n",
       "      <td>0</td>\n",
       "      <td>0</td>\n",
       "      <td>40</td>\n",
       "      <td>United-States</td>\n",
       "    </tr>\n",
       "    <tr>\n",
       "      <th>9</th>\n",
       "      <td>67</td>\n",
       "      <td>Local-gov</td>\n",
       "      <td>196856</td>\n",
       "      <td>Doctorate</td>\n",
       "      <td>16</td>\n",
       "      <td>Never-married</td>\n",
       "      <td>Prof-specialty</td>\n",
       "      <td>Not-in-family</td>\n",
       "      <td>White</td>\n",
       "      <td>Female</td>\n",
       "      <td>7742</td>\n",
       "      <td>0</td>\n",
       "      <td>50</td>\n",
       "      <td>United-States</td>\n",
       "    </tr>\n",
       "  </tbody>\n",
       "</table>\n",
       "</div>"
      ],
      "text/plain": [
       "   age    workclass  fnlwgt     education  educational-num  \\\n",
       "0   33      Private  222139     Bachelors               13   \n",
       "1   32      Private  193663       HS-grad                9   \n",
       "2   29      Private  241110       HS-grad                9   \n",
       "3   38    Local-gov  115813  Some-college               10   \n",
       "4   32      Private   58981  Some-college               10   \n",
       "5   25      Private  191232     Bachelors               13   \n",
       "6   53  Federal-gov  275064       Masters               14   \n",
       "7   27      Private  276537       HS-grad                9   \n",
       "8   25      Private  185504  Some-college               10   \n",
       "9   67    Local-gov  196856     Doctorate               16   \n",
       "\n",
       "       marital-status       occupation   relationship   race  gender  \\\n",
       "0       Never-married   Prof-specialty  Not-in-family  White    Male   \n",
       "1  Married-civ-spouse     Adm-clerical        Husband  White    Male   \n",
       "2       Never-married     Craft-repair  Not-in-family  White    Male   \n",
       "3  Married-civ-spouse  Exec-managerial        Husband  White    Male   \n",
       "4       Never-married     Craft-repair  Not-in-family  White    Male   \n",
       "5       Never-married  Exec-managerial  Not-in-family  White  Female   \n",
       "6  Married-civ-spouse     Adm-clerical        Husband  White    Male   \n",
       "7  Married-civ-spouse            Sales           Wife  White  Female   \n",
       "8       Never-married            Sales      Own-child  White  Female   \n",
       "9       Never-married   Prof-specialty  Not-in-family  White  Female   \n",
       "\n",
       "   capital-gain  capital-loss  hours-per-week native-country  \n",
       "0             0             0              40  United-States  \n",
       "1             0             0              40  United-States  \n",
       "2          2510             0              40  United-States  \n",
       "3             0             0              40  United-States  \n",
       "4             0             0              46  United-States  \n",
       "5             0             0              60  United-States  \n",
       "6             0             0              40  United-States  \n",
       "7             0             0              21  United-States  \n",
       "8             0             0              40  United-States  \n",
       "9          7742             0              50  United-States  "
      ]
     },
     "metadata": {},
     "output_type": "display_data"
    }
   ],
   "source": [
    "display(pd.concat([w.iloc[[0]]for w in wm_cand_list],ignore_index=True))"
   ]
  },
  {
   "cell_type": "markdown",
   "metadata": {},
   "source": [
    "## 6. Aggregate All candidates\n",
    "\n",
    "* In this part, you can collect all candidates you generated and pick only the points satisfying some conditions.\n",
    "    1. The points should have a different label from the target.\n",
    "    2. The points should be close to the target.\n",
    "* **agg_disinfo()** function can filter the disinformations that satisfy the above conditions among all candidates."
   ]
  },
  {
   "cell_type": "code",
   "execution_count": 11,
   "metadata": {
    "ExecuteTime": {
     "end_time": "2022-03-16T11:48:19.682813Z",
     "start_time": "2022-03-16T11:48:18.272625Z"
    }
   },
   "outputs": [
    {
     "name": "stderr",
     "output_type": "stream",
     "text": [
      "100%|██████████| 6/6 [00:00<00:00, 244.65it/s]\n",
      "100%|██████████| 6/6 [00:00<00:00, 258.09it/s]\n",
      "100%|██████████| 6/6 [00:00<00:00, 203.63it/s]\n",
      "100%|██████████| 6/6 [00:00<00:00, 169.90it/s]\n",
      "100%|██████████| 6/6 [00:00<00:00, 263.27it/s]\n",
      "100%|██████████| 6/6 [00:00<00:00, 189.23it/s]\n",
      "100%|██████████| 6/6 [00:00<00:00, 148.29it/s]\n",
      "100%|██████████| 6/6 [00:00<00:00, 239.57it/s]\n",
      "100%|██████████| 6/6 [00:00<00:00, 242.32it/s]\n",
      "100%|██████████| 6/6 [00:00<00:00, 180.17it/s]\n",
      "100%|██████████| 6/6 [00:00<00:00, 148.30it/s]\n",
      "100%|██████████| 6/6 [00:00<00:00, 168.43it/s]\n",
      "100%|██████████| 6/6 [00:00<00:00, 158.88it/s]\n",
      "100%|██████████| 6/6 [00:00<00:00, 251.14it/s]\n",
      "100%|██████████| 6/6 [00:00<00:00, 284.87it/s]\n"
     ]
    }
   ],
   "source": [
    "x_dis, y_dis = [], []\n",
    "for ti in range(n_target):\n",
    "    xt, yt = x_ta[ti], y_ta[ti]\n",
    "    wm_cand = wm_cand_list[ti]\n",
    "    gan_cand = gan_cand_list[ti]\n",
    "    candidates = pd.concat((wm_cand, gan_cand))\n",
    "    \n",
    "    x_tmp, y_tmp = agg_disinfo(prob_dec, candidates, tr_scaler, x_tr, y_tr, xt, yt, \n",
    "                               columns_1hot, n_disinfo=500)\n",
    "    x_dis.extend(x_tmp)\n",
    "    y_dis.extend(y_tmp)"
   ]
  },
  {
   "cell_type": "markdown",
   "metadata": {},
   "source": [
    "## 7. Insert Disinformation\n",
    "\n",
    "* Now,you can test the effect of the generated disinformations.\n",
    "* In the class **VictimModels**, there are varous kinds of models that can be used as a victim model."
   ]
  },
  {
   "cell_type": "code",
   "execution_count": 12,
   "metadata": {
    "ExecuteTime": {
     "end_time": "2022-03-16T12:08:20.281358Z",
     "start_time": "2022-03-16T11:48:19.684396Z"
    },
    "scrolled": true
   },
   "outputs": [
    {
     "name": "stdout",
     "output_type": "stream",
     "text": [
      "train models..\n"
     ]
    },
    {
     "name": "stderr",
     "output_type": "stream",
     "text": [
      "100%|██████████| 19/19 [17:12<00:00, 54.34s/it] \n",
      "19it [02:48,  8.85s/it]\n"
     ]
    }
   ],
   "source": [
    "from model import VictimModels\n",
    "\n",
    "v_models = VictimModels()\n",
    "v_models.train_all(x_tr, y_tr)\n",
    "result_clean = v_models.show_performance([(x_tr,y_tr), (x_te,y_te), (x_ta,y_ta)],\n",
    "                         cnames=['train', 'test','target'])"
   ]
  },
  {
   "cell_type": "code",
   "execution_count": 13,
   "metadata": {
    "ExecuteTime": {
     "end_time": "2022-03-16T12:08:20.320378Z",
     "start_time": "2022-03-16T12:08:20.285280Z"
    }
   },
   "outputs": [],
   "source": [
    "x_tr_dis = np.concatenate((x_tr, x_dis), axis=0)\n",
    "y_tr_dis = np.concatenate((y_tr, y_dis), axis=0).astype(int)"
   ]
  },
  {
   "cell_type": "code",
   "execution_count": 14,
   "metadata": {
    "ExecuteTime": {
     "end_time": "2022-03-16T12:37:30.907074Z",
     "start_time": "2022-03-16T12:08:20.322267Z"
    },
    "scrolled": true
   },
   "outputs": [
    {
     "name": "stdout",
     "output_type": "stream",
     "text": [
      "train models..\n"
     ]
    },
    {
     "name": "stderr",
     "output_type": "stream",
     "text": [
      "100%|██████████| 19/19 [25:36<00:00, 80.84s/it] \n",
      "19it [03:34, 11.29s/it]\n"
     ]
    }
   ],
   "source": [
    "v_models_dis = VictimModels()\n",
    "v_models_dis.train_all(x_tr_dis, y_tr_dis)\n",
    "result_dis = v_models_dis.show_performance([(x_tr,y_tr), (x_te,y_te), (x_ta,y_ta)],\n",
    "                         cnames=['train', 'test','target'])"
   ]
  },
  {
   "cell_type": "markdown",
   "metadata": {},
   "source": [
    "* In addition, you can compare 2 results (before and after inserting) using **compare_result()** function."
   ]
  },
  {
   "cell_type": "code",
   "execution_count": 15,
   "metadata": {
    "ExecuteTime": {
     "end_time": "2022-03-16T12:37:30.922117Z",
     "start_time": "2022-03-16T12:37:30.909208Z"
    }
   },
   "outputs": [
    {
     "data": {
      "text/html": [
       "<div>\n",
       "<style scoped>\n",
       "    .dataframe tbody tr th:only-of-type {\n",
       "        vertical-align: middle;\n",
       "    }\n",
       "\n",
       "    .dataframe tbody tr th {\n",
       "        vertical-align: top;\n",
       "    }\n",
       "\n",
       "    .dataframe thead th {\n",
       "        text-align: right;\n",
       "    }\n",
       "</style>\n",
       "<table border=\"1\" class=\"dataframe\">\n",
       "  <thead>\n",
       "    <tr style=\"text-align: right;\">\n",
       "      <th></th>\n",
       "      <th>mean</th>\n",
       "      <th>std</th>\n",
       "    </tr>\n",
       "  </thead>\n",
       "  <tbody>\n",
       "    <tr>\n",
       "      <th>train acc</th>\n",
       "      <td>-1.670526</td>\n",
       "      <td>1.437832</td>\n",
       "    </tr>\n",
       "    <tr>\n",
       "      <th>test acc</th>\n",
       "      <td>-1.611579</td>\n",
       "      <td>1.559502</td>\n",
       "    </tr>\n",
       "    <tr>\n",
       "      <th>target acc</th>\n",
       "      <td>-31.052632</td>\n",
       "      <td>20.788548</td>\n",
       "    </tr>\n",
       "  </tbody>\n",
       "</table>\n",
       "</div>"
      ],
      "text/plain": [
       "                 mean        std\n",
       "train acc   -1.670526   1.437832\n",
       "test acc    -1.611579   1.559502\n",
       "target acc -31.052632  20.788548"
      ]
     },
     "execution_count": 15,
     "metadata": {},
     "output_type": "execute_result"
    }
   ],
   "source": [
    "from utils import compare_result\n",
    "\n",
    "compare_result(result_clean, result_dis)"
   ]
  },
  {
   "cell_type": "markdown",
   "metadata": {},
   "source": [
    "## 8. Membership Inference Attack (MIA)\n",
    "\n",
    "* At final step, you can test the victim models can be protected from MIA.\n",
    "* Before training attack models, you have to construct the input data for attack model using **attack_input()** function.\n",
    "* The attack input should consist of the loss and confidence value corresponding to each data points."
   ]
  },
  {
   "cell_type": "code",
   "execution_count": 16,
   "metadata": {
    "ExecuteTime": {
     "end_time": "2022-03-16T12:37:44.734835Z",
     "start_time": "2022-03-16T12:37:30.923724Z"
    }
   },
   "outputs": [],
   "source": [
    "from sklearn.model_selection import train_test_split\n",
    "from model import AttackModels, attack_input\n",
    "\n",
    "np.random.seed(726)\n",
    "\n",
    "vi = 1\n",
    "victim_clean = v_models.models[vi]\n",
    "x_mia, y_mia, x_mia_ta, y_mia_ta = attack_input(victim_clean, x_tr, y_tr, x_te, y_te, x_ta, y_ta)\n",
    "x_mia_tr, x_mia_te, y_mia_tr, y_mia_te = train_test_split(x_mia, y_mia, test_size  = 0.25)"
   ]
  },
  {
   "cell_type": "markdown",
   "metadata": {},
   "source": [
    "* Finally, you can train the various attack models, such as neural networks, decision tree, svm, and so on.\n",
    "* After training, you can compare the results and check the effect of inserting disinformation."
   ]
  },
  {
   "cell_type": "code",
   "execution_count": 17,
   "metadata": {
    "ExecuteTime": {
     "end_time": "2022-03-16T12:38:04.278614Z",
     "start_time": "2022-03-16T12:37:44.736398Z"
    }
   },
   "outputs": [
    {
     "name": "stdout",
     "output_type": "stream",
     "text": [
      "train models..\n"
     ]
    },
    {
     "name": "stderr",
     "output_type": "stream",
     "text": [
      "100%|██████████| 9/9 [00:18<00:00,  2.08s/it]\n",
      "9it [00:00, 10.96it/s]\n"
     ]
    },
    {
     "data": {
      "text/html": [
       "<div>\n",
       "<style scoped>\n",
       "    .dataframe tbody tr th:only-of-type {\n",
       "        vertical-align: middle;\n",
       "    }\n",
       "\n",
       "    .dataframe tbody tr th {\n",
       "        vertical-align: top;\n",
       "    }\n",
       "\n",
       "    .dataframe thead th {\n",
       "        text-align: right;\n",
       "    }\n",
       "</style>\n",
       "<table border=\"1\" class=\"dataframe\">\n",
       "  <thead>\n",
       "    <tr style=\"text-align: right;\">\n",
       "      <th></th>\n",
       "      <th>train attack acc</th>\n",
       "      <th>test attack acc</th>\n",
       "      <th>target attack acc</th>\n",
       "    </tr>\n",
       "  </thead>\n",
       "  <tbody>\n",
       "    <tr>\n",
       "      <th>a-nn_tanh_5_2</th>\n",
       "      <td>0.5150</td>\n",
       "      <td>0.5167</td>\n",
       "      <td>0.8</td>\n",
       "    </tr>\n",
       "    <tr>\n",
       "      <th>a-nn_relu_5_2</th>\n",
       "      <td>0.4993</td>\n",
       "      <td>0.5020</td>\n",
       "      <td>0.8</td>\n",
       "    </tr>\n",
       "    <tr>\n",
       "      <th>a-nn_identity</th>\n",
       "      <td>0.5082</td>\n",
       "      <td>0.5026</td>\n",
       "      <td>0.8</td>\n",
       "    </tr>\n",
       "    <tr>\n",
       "      <th>a-tree_gini</th>\n",
       "      <td>0.5632</td>\n",
       "      <td>0.5303</td>\n",
       "      <td>0.6</td>\n",
       "    </tr>\n",
       "    <tr>\n",
       "      <th>a-tree_entropy</th>\n",
       "      <td>0.5637</td>\n",
       "      <td>0.5309</td>\n",
       "      <td>0.7</td>\n",
       "    </tr>\n",
       "    <tr>\n",
       "      <th>a-rf_gini</th>\n",
       "      <td>0.5920</td>\n",
       "      <td>0.5268</td>\n",
       "      <td>0.7</td>\n",
       "    </tr>\n",
       "    <tr>\n",
       "      <th>a-rf_entropy</th>\n",
       "      <td>0.5884</td>\n",
       "      <td>0.5280</td>\n",
       "      <td>0.6</td>\n",
       "    </tr>\n",
       "    <tr>\n",
       "      <th>a-ada</th>\n",
       "      <td>0.5338</td>\n",
       "      <td>0.5096</td>\n",
       "      <td>0.7</td>\n",
       "    </tr>\n",
       "    <tr>\n",
       "      <th>a-log_reg</th>\n",
       "      <td>0.5065</td>\n",
       "      <td>0.5027</td>\n",
       "      <td>0.7</td>\n",
       "    </tr>\n",
       "  </tbody>\n",
       "</table>\n",
       "</div>"
      ],
      "text/plain": [
       "                train attack acc  test attack acc  target attack acc\n",
       "a-nn_tanh_5_2             0.5150           0.5167                0.8\n",
       "a-nn_relu_5_2             0.4993           0.5020                0.8\n",
       "a-nn_identity             0.5082           0.5026                0.8\n",
       "a-tree_gini               0.5632           0.5303                0.6\n",
       "a-tree_entropy            0.5637           0.5309                0.7\n",
       "a-rf_gini                 0.5920           0.5268                0.7\n",
       "a-rf_entropy              0.5884           0.5280                0.6\n",
       "a-ada                     0.5338           0.5096                0.7\n",
       "a-log_reg                 0.5065           0.5027                0.7"
      ]
     },
     "execution_count": 17,
     "metadata": {},
     "output_type": "execute_result"
    }
   ],
   "source": [
    "model_names = ['nn_tanh_5_2','nn_relu_5_2', 'nn_identity', 'tree_gini', 'tree_entropy',\n",
    "               'rf_gini', 'rf_entropy', 'ada', 'log_reg']\n",
    "\n",
    "a_models = AttackModels(model_names)\n",
    "a_models.train_all(x_mia_tr, y_mia_tr)\n",
    "a_result_clean = a_models.show_performance([(x_mia_tr,y_mia_tr), (x_mia_te,y_mia_te), (x_mia_ta,y_mia_ta)],\n",
    "                         cnames=['train attack', 'test attack','target attack'])\n",
    "a_result_clean"
   ]
  },
  {
   "cell_type": "code",
   "execution_count": 18,
   "metadata": {
    "ExecuteTime": {
     "end_time": "2022-03-16T12:38:18.178297Z",
     "start_time": "2022-03-16T12:38:04.280435Z"
    }
   },
   "outputs": [],
   "source": [
    "victim_dis = v_models_dis.models[vi]\n",
    "x_mia, y_mia, x_mia_ta, y_mia_ta = attack_input(victim_dis, x_tr, y_tr, x_te, y_te, x_ta, y_ta)\n",
    "x_mia_tr, x_mia_te, y_mia_tr, y_mia_te = train_test_split(x_mia, y_mia, test_size  = 0.25)"
   ]
  },
  {
   "cell_type": "code",
   "execution_count": 19,
   "metadata": {
    "ExecuteTime": {
     "end_time": "2022-03-16T12:38:40.391389Z",
     "start_time": "2022-03-16T12:38:18.180383Z"
    }
   },
   "outputs": [
    {
     "name": "stdout",
     "output_type": "stream",
     "text": [
      "train models..\n"
     ]
    },
    {
     "name": "stderr",
     "output_type": "stream",
     "text": [
      "100%|██████████| 9/9 [00:21<00:00,  2.37s/it]\n",
      "9it [00:00, 10.78it/s]\n"
     ]
    },
    {
     "data": {
      "text/html": [
       "<div>\n",
       "<style scoped>\n",
       "    .dataframe tbody tr th:only-of-type {\n",
       "        vertical-align: middle;\n",
       "    }\n",
       "\n",
       "    .dataframe tbody tr th {\n",
       "        vertical-align: top;\n",
       "    }\n",
       "\n",
       "    .dataframe thead th {\n",
       "        text-align: right;\n",
       "    }\n",
       "</style>\n",
       "<table border=\"1\" class=\"dataframe\">\n",
       "  <thead>\n",
       "    <tr style=\"text-align: right;\">\n",
       "      <th></th>\n",
       "      <th>train attack acc</th>\n",
       "      <th>test attack acc</th>\n",
       "      <th>target attack acc</th>\n",
       "    </tr>\n",
       "  </thead>\n",
       "  <tbody>\n",
       "    <tr>\n",
       "      <th>a-nn_tanh_5_2</th>\n",
       "      <td>0.5083</td>\n",
       "      <td>0.5089</td>\n",
       "      <td>0.7</td>\n",
       "    </tr>\n",
       "    <tr>\n",
       "      <th>a-nn_relu_5_2</th>\n",
       "      <td>0.5002</td>\n",
       "      <td>0.4994</td>\n",
       "      <td>0.2</td>\n",
       "    </tr>\n",
       "    <tr>\n",
       "      <th>a-nn_identity</th>\n",
       "      <td>0.5065</td>\n",
       "      <td>0.5061</td>\n",
       "      <td>0.7</td>\n",
       "    </tr>\n",
       "    <tr>\n",
       "      <th>a-tree_gini</th>\n",
       "      <td>0.5634</td>\n",
       "      <td>0.5006</td>\n",
       "      <td>0.6</td>\n",
       "    </tr>\n",
       "    <tr>\n",
       "      <th>a-tree_entropy</th>\n",
       "      <td>0.5616</td>\n",
       "      <td>0.5017</td>\n",
       "      <td>0.6</td>\n",
       "    </tr>\n",
       "    <tr>\n",
       "      <th>a-rf_gini</th>\n",
       "      <td>0.5890</td>\n",
       "      <td>0.5128</td>\n",
       "      <td>0.6</td>\n",
       "    </tr>\n",
       "    <tr>\n",
       "      <th>a-rf_entropy</th>\n",
       "      <td>0.5913</td>\n",
       "      <td>0.5247</td>\n",
       "      <td>0.5</td>\n",
       "    </tr>\n",
       "    <tr>\n",
       "      <th>a-ada</th>\n",
       "      <td>0.5295</td>\n",
       "      <td>0.4987</td>\n",
       "      <td>0.6</td>\n",
       "    </tr>\n",
       "    <tr>\n",
       "      <th>a-log_reg</th>\n",
       "      <td>0.5065</td>\n",
       "      <td>0.5052</td>\n",
       "      <td>0.7</td>\n",
       "    </tr>\n",
       "  </tbody>\n",
       "</table>\n",
       "</div>"
      ],
      "text/plain": [
       "                train attack acc  test attack acc  target attack acc\n",
       "a-nn_tanh_5_2             0.5083           0.5089                0.7\n",
       "a-nn_relu_5_2             0.5002           0.4994                0.2\n",
       "a-nn_identity             0.5065           0.5061                0.7\n",
       "a-tree_gini               0.5634           0.5006                0.6\n",
       "a-tree_entropy            0.5616           0.5017                0.6\n",
       "a-rf_gini                 0.5890           0.5128                0.6\n",
       "a-rf_entropy              0.5913           0.5247                0.5\n",
       "a-ada                     0.5295           0.4987                0.6\n",
       "a-log_reg                 0.5065           0.5052                0.7"
      ]
     },
     "execution_count": 19,
     "metadata": {},
     "output_type": "execute_result"
    }
   ],
   "source": [
    "a_models_dis = AttackModels(model_names)\n",
    "a_models_dis.train_all(x_mia_tr, y_mia_tr)\n",
    "a_result_dis = a_models_dis.show_performance([(x_mia_tr,y_mia_tr), (x_mia_te,y_mia_te), (x_mia_ta,y_mia_ta)],\n",
    "                         cnames=['train attack', 'test attack','target attack'])\n",
    "a_result_dis"
   ]
  },
  {
   "cell_type": "code",
   "execution_count": 20,
   "metadata": {
    "ExecuteTime": {
     "end_time": "2022-03-16T12:38:40.405691Z",
     "start_time": "2022-03-16T12:38:40.393051Z"
    }
   },
   "outputs": [
    {
     "data": {
      "text/html": [
       "<div>\n",
       "<style scoped>\n",
       "    .dataframe tbody tr th:only-of-type {\n",
       "        vertical-align: middle;\n",
       "    }\n",
       "\n",
       "    .dataframe tbody tr th {\n",
       "        vertical-align: top;\n",
       "    }\n",
       "\n",
       "    .dataframe thead th {\n",
       "        text-align: right;\n",
       "    }\n",
       "</style>\n",
       "<table border=\"1\" class=\"dataframe\">\n",
       "  <thead>\n",
       "    <tr style=\"text-align: right;\">\n",
       "      <th></th>\n",
       "      <th>mean</th>\n",
       "      <th>std</th>\n",
       "    </tr>\n",
       "  </thead>\n",
       "  <tbody>\n",
       "    <tr>\n",
       "      <th>train attack acc</th>\n",
       "      <td>-0.153333</td>\n",
       "      <td>0.291076</td>\n",
       "    </tr>\n",
       "    <tr>\n",
       "      <th>test attack acc</th>\n",
       "      <td>-1.016667</td>\n",
       "      <td>1.233025</td>\n",
       "    </tr>\n",
       "    <tr>\n",
       "      <th>target attack acc</th>\n",
       "      <td>-13.333333</td>\n",
       "      <td>18.027756</td>\n",
       "    </tr>\n",
       "  </tbody>\n",
       "</table>\n",
       "</div>"
      ],
      "text/plain": [
       "                        mean        std\n",
       "train attack acc   -0.153333   0.291076\n",
       "test attack acc    -1.016667   1.233025\n",
       "target attack acc -13.333333  18.027756"
      ]
     },
     "execution_count": 20,
     "metadata": {},
     "output_type": "execute_result"
    }
   ],
   "source": [
    "idxs = a_result_clean['target attack acc'] >= 0.5\n",
    "compare_result(a_result_clean.loc[idxs], a_result_dis.loc[idxs])"
   ]
  },
  {
   "cell_type": "code",
   "execution_count": null,
   "metadata": {},
   "outputs": [],
   "source": []
  },
  {
   "cell_type": "code",
   "execution_count": null,
   "metadata": {},
   "outputs": [],
   "source": []
  },
  {
   "cell_type": "code",
   "execution_count": null,
   "metadata": {},
   "outputs": [],
   "source": []
  }
 ],
 "metadata": {
  "kernelspec": {
   "display_name": "snorkel",
   "language": "python",
   "name": "snorkel"
  },
  "language_info": {
   "codemirror_mode": {
    "name": "ipython",
    "version": 3
   },
   "file_extension": ".py",
   "mimetype": "text/x-python",
   "name": "python",
   "nbconvert_exporter": "python",
   "pygments_lexer": "ipython3",
   "version": "3.6.13"
  }
 },
 "nbformat": 4,
 "nbformat_minor": 4
}
