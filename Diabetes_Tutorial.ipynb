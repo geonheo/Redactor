{
 "cells": [
  {
   "cell_type": "code",
   "execution_count": 1,
   "metadata": {
    "ExecuteTime": {
     "end_time": "2022-04-12T02:52:53.408265Z",
     "start_time": "2022-04-12T02:52:53.396755Z"
    }
   },
   "outputs": [],
   "source": [
    "import warnings\n",
    "\n",
    "warnings.filterwarnings(action='ignore')"
   ]
  },
  {
   "cell_type": "markdown",
   "metadata": {},
   "source": [
    "## Diabetes Dataset"
   ]
  },
  {
   "cell_type": "code",
   "execution_count": 2,
   "metadata": {
    "ExecuteTime": {
     "end_time": "2022-04-12T02:52:57.315991Z",
     "start_time": "2022-04-12T02:52:54.025427Z"
    },
    "scrolled": true
   },
   "outputs": [],
   "source": [
    "from preprocessing import Dataset\n",
    "import numpy as np\n",
    "\n",
    "np.random.seed(227)\n",
    "\n",
    "test_size = 0.25\n",
    "\n",
    "n_sample = 2000\n",
    "target_indices = ['i18400','i27785','i32134','i42916','i45442','i55275','i58296','i64244','i7016','i15937']\n",
    "n_target = len(target_indices)\n",
    "\n",
    "Diabetes_entire = Dataset('diabetes')\n",
    "(x_tra,y_tra), (x_tea,y_tea), (x_taa,y_taa), tra_scaler = Diabetes_entire.split_dataset(test_size, target_indices)"
   ]
  },
  {
   "cell_type": "code",
   "execution_count": 3,
   "metadata": {
    "ExecuteTime": {
     "end_time": "2022-04-12T02:52:57.342050Z",
     "start_time": "2022-04-12T02:52:57.318066Z"
    }
   },
   "outputs": [
    {
     "name": "stdout",
     "output_type": "stream",
     "text": [
      "0 i18400\n",
      "(200, 1)\n",
      "1 i27785\n",
      "(200, 1)\n",
      "2 i32134\n",
      "(200, 1)\n",
      "3 i42916\n",
      "(200,)\n",
      "4 i45442\n",
      "(200,)\n",
      "5 i55275\n",
      "(200,)\n",
      "6 i58296\n",
      "(200,)\n",
      "7 i64244\n",
      "(200, 1)\n",
      "8 i7016\n",
      "(200, 1)\n",
      "9 i15937\n",
      "(200,)\n"
     ]
    }
   ],
   "source": [
    "for ti in range(n_target):\n",
    "    print(ti, target_indices[ti])\n",
    "    \n",
    "    x_dis_p = np.load('disinfos/%s_%s_x.npy' % (target_indices[ti], n_sample))\n",
    "    y_dis_p = np.load('disinfos/%s_%s_y.npy' % (target_indices[ti], n_sample))\n",
    "    print(y_dis_p.shape)\n",
    "    if len(y_dis_p.shape) == 2:\n",
    "        y_dis_p = y_dis_p[:,0]\n",
    "    \n",
    "    if ti == 0:\n",
    "        x_dis, y_dis = x_dis_p, y_dis_p\n",
    "    else:\n",
    "        x_dis = np.concatenate((x_dis, x_dis_p), axis=0)\n",
    "        y_dis = np.concatenate((y_dis, y_dis_p), axis=0).astype(int)"
   ]
  },
  {
   "cell_type": "markdown",
   "metadata": {},
   "source": [
    "# Insert Disinformation"
   ]
  },
  {
   "cell_type": "code",
   "execution_count": 4,
   "metadata": {
    "ExecuteTime": {
     "end_time": "2022-04-12T04:20:55.989612Z",
     "start_time": "2022-04-12T02:52:57.344626Z"
    },
    "scrolled": true
   },
   "outputs": [
    {
     "name": "stdout",
     "output_type": "stream",
     "text": [
      "train models..\n"
     ]
    },
    {
     "name": "stderr",
     "output_type": "stream",
     "text": [
      "100%|██████████| 19/19 [1:18:50<00:00, 249.00s/it]\n",
      "19it [09:07, 28.82s/it]\n"
     ]
    }
   ],
   "source": [
    "from model import VictimModels\n",
    "\n",
    "v_models = VictimModels()\n",
    "v_models.train_all(x_tra, y_tra)\n",
    "result_clean = v_models.show_performance([(x_tra,y_tra), (x_tea,y_tea), (x_taa,y_taa)],\n",
    "                         cnames=['train', 'test','target'])"
   ]
  },
  {
   "cell_type": "code",
   "execution_count": 5,
   "metadata": {
    "ExecuteTime": {
     "end_time": "2022-04-12T04:20:56.021932Z",
     "start_time": "2022-04-12T04:20:55.993806Z"
    }
   },
   "outputs": [],
   "source": [
    "x_tr_dis = np.concatenate((x_tra, x_dis), axis=0)\n",
    "y_tr_dis = np.concatenate((y_tra, y_dis), axis=0).astype(int)"
   ]
  },
  {
   "cell_type": "code",
   "execution_count": 6,
   "metadata": {
    "ExecuteTime": {
     "end_time": "2022-04-12T10:32:57.166329Z",
     "start_time": "2022-04-12T04:20:56.024580Z"
    },
    "scrolled": true
   },
   "outputs": [
    {
     "name": "stdout",
     "output_type": "stream",
     "text": [
      "train models..\n"
     ]
    },
    {
     "name": "stderr",
     "output_type": "stream",
     "text": [
      "100%|██████████| 19/19 [6:01:19<00:00, 1141.05s/it]   \n",
      "19it [10:41, 33.75s/it]\n"
     ]
    }
   ],
   "source": [
    "v_models_dis = VictimModels()\n",
    "v_models_dis.train_all(x_tr_dis, y_tr_dis)\n",
    "result_dis = v_models_dis.show_performance([(x_tra,y_tra), (x_tea,y_tea), (x_taa,y_taa)],\n",
    "                         cnames=['train', 'test','target'])"
   ]
  },
  {
   "cell_type": "code",
   "execution_count": 16,
   "metadata": {
    "ExecuteTime": {
     "end_time": "2022-04-12T16:38:08.373253Z",
     "start_time": "2022-04-12T16:38:08.357260Z"
    }
   },
   "outputs": [
    {
     "data": {
      "text/html": [
       "<div>\n",
       "<style scoped>\n",
       "    .dataframe tbody tr th:only-of-type {\n",
       "        vertical-align: middle;\n",
       "    }\n",
       "\n",
       "    .dataframe tbody tr th {\n",
       "        vertical-align: top;\n",
       "    }\n",
       "\n",
       "    .dataframe thead th {\n",
       "        text-align: right;\n",
       "    }\n",
       "</style>\n",
       "<table border=\"1\" class=\"dataframe\">\n",
       "  <thead>\n",
       "    <tr style=\"text-align: right;\">\n",
       "      <th></th>\n",
       "      <th>mean</th>\n",
       "      <th>std</th>\n",
       "    </tr>\n",
       "  </thead>\n",
       "  <tbody>\n",
       "    <tr>\n",
       "      <th>train acc</th>\n",
       "      <td>-0.080</td>\n",
       "      <td>0.320312</td>\n",
       "    </tr>\n",
       "    <tr>\n",
       "      <th>test acc</th>\n",
       "      <td>-0.525</td>\n",
       "      <td>0.639192</td>\n",
       "    </tr>\n",
       "    <tr>\n",
       "      <th>target acc</th>\n",
       "      <td>-30.000</td>\n",
       "      <td>18.257419</td>\n",
       "    </tr>\n",
       "  </tbody>\n",
       "</table>\n",
       "</div>"
      ],
      "text/plain": [
       "              mean        std\n",
       "train acc   -0.080   0.320312\n",
       "test acc    -0.525   0.639192\n",
       "target acc -30.000  18.257419"
      ]
     },
     "execution_count": 16,
     "metadata": {},
     "output_type": "execute_result"
    }
   ],
   "source": [
    "vnames = ['v-svm_sigmoid', 'v-nn_relu_25_10','v-nn_relu_5_2', 'v-svm_poly', 'v-nn_relu_50_25', 'v-svm_rbf']\n",
    "compare_result(result_clean.loc[vnames], result_dis.loc[vnames])"
   ]
  }
 ],
 "metadata": {
  "kernelspec": {
   "display_name": "snorkel",
   "language": "python",
   "name": "snorkel"
  },
  "language_info": {
   "codemirror_mode": {
    "name": "ipython",
    "version": 3
   },
   "file_extension": ".py",
   "mimetype": "text/x-python",
   "name": "python",
   "nbconvert_exporter": "python",
   "pygments_lexer": "ipython3",
   "version": "3.6.13"
  }
 },
 "nbformat": 4,
 "nbformat_minor": 4
}
